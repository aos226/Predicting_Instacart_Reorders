{
 "cells": [
  {
   "cell_type": "code",
   "execution_count": 2,
   "metadata": {},
   "outputs": [],
   "source": [
    "import numpy as np\n",
    "from sqlalchemy import create_engine\n",
    "import pandas as pd\n",
    "import pickle\n",
    "from sklearn.model_selection import train_test_split\n",
    "from sklearn.preprocessing import StandardScaler\n",
    "from sklearn.linear_model import LogisticRegression\n",
    "from sklearn.metrics import f1_score\n",
    "from sklearn.ensemble import RandomForestClassifier\n",
    "from collections import OrderedDict\n",
    "import imblearn.over_sampling\n",
    "from sklearn.metrics import roc_auc_score\n",
    "import xgboost as xgb\n",
    "\n",
    "import matplotlib.pyplot as plt\n",
    "%matplotlib inline\n",
    "import seaborn as sns\n",
    "sns.set()"
   ]
  },
  {
   "cell_type": "code",
   "execution_count": 2,
   "metadata": {},
   "outputs": [
    {
     "name": "stderr",
     "output_type": "stream",
     "text": [
      "/home/ubuntu/anaconda3/lib/python3.6/site-packages/psycopg2/__init__.py:144: UserWarning: The psycopg2 wheel package will be renamed from release 2.8; in order to keep installing from binary please use \"pip install psycopg2-binary\" instead. For details see: <http://initd.org/psycopg/docs/install.html#binary-install-from-pypi>.\n",
      "  \"\"\")\n"
     ]
    }
   ],
   "source": [
    "cnx = create_engine('postgresql://postgres@localhost:5432/instacart')"
   ]
  },
  {
   "cell_type": "code",
   "execution_count": 5,
   "metadata": {},
   "outputs": [],
   "source": [
    "df_orders = pd.read_sql_query('''SELECT * FROM orders_2''',cnx)\n",
    "df_order_products_prior = pd.read_sql_query('''SELECT * FROM order_products_prior''',cnx)\n",
    "df_order_products_train = pd.read_sql_query('''SELECT * FROM order_products_train''',cnx)\n",
    "df_products = pd.read_sql_query('''SELECT * FROM products_full''',cnx)\n",
    "df_users = pd.read_sql_query('''SELECT * FROM users''',cnx)"
   ]
  },
  {
   "cell_type": "code",
   "execution_count": 3,
   "metadata": {},
   "outputs": [],
   "source": [
    "# with open('orders.pkl', 'rb') as picklefile:\n",
    "#     df_orders = pickle.load(picklefile)\n",
    "with open('order_products_prior2.pkl', 'rb') as picklefile:\n",
    "    df_order_products_prior = pickle.load(picklefile)\n",
    "# with open('order_products_train.pkl', 'rb') as picklefile:\n",
    "#     df_order_products_train = pickle.load(picklefile)\n",
    "# with open('products.pkl', 'rb') as picklefile:\n",
    "#     df_products = pickle.load(picklefile)\n",
    "# with open('users.pkl', 'rb') as picklefile:\n",
    "#     df_users = pickle.load(picklefile)"
   ]
  },
  {
   "cell_type": "code",
   "execution_count": 8,
   "metadata": {},
   "outputs": [],
   "source": [
    "# Combining all tables together\n",
    "\n",
    "df_order_products_train = df_order_products_train.merge(df_orders.drop('eval_set', axis=1), on='order_id')\n",
    "df_order_products_train = df_order_products_train.merge(df_products, on='product_id')\n",
    "# df_order_products_prior = df_order_products_prior.merge(df_orders.drop('eval_set', axis=1), on='order_id')\n",
    "# df_order_products_prior = df_order_products_prior.merge(df_products, on='product_id')"
   ]
  },
  {
   "cell_type": "code",
   "execution_count": 9,
   "metadata": {},
   "outputs": [],
   "source": [
    "# Pickling these files for re-import when needed\n",
    "\n",
    "\n",
    "# with open('orders.pkl', 'wb') as picklefile:\n",
    "#     pickle.dump(df_orders, picklefile)\n",
    "# with open('order_products_prior2.pkl', 'wb') as picklefile:\n",
    "#     pickle.dump(df_order_products_prior, picklefile)\n",
    "with open('order_products_train2.pkl', 'wb') as picklefile:\n",
    "    pickle.dump(df_order_products_train, picklefile)\n",
    "# with open('products.pkl', 'wb') as picklefile:\n",
    "#     pickle.dump(df_products, picklefile)\n",
    "# with open('users.pkl', 'wb') as picklefile:\n",
    "#     pickle.dump(df_users, picklefile)"
   ]
  },
  {
   "cell_type": "code",
   "execution_count": 7,
   "metadata": {},
   "outputs": [],
   "source": [
    "df_user_product = (df_order_products_prior.groupby(['product_id','user_id'],as_index=False) \n",
    "                                          .agg({'order_id':'count'}) \n",
    "                                          .rename(columns={'order_id':'user_product_total_orders'}))\n",
    "\n",
    "train_ids = df_order_products_train['user_id'].unique() \n",
    "df_X = df_user_product[df_user_product['user_id'].isin(train_ids)]"
   ]
  },
  {
   "cell_type": "code",
   "execution_count": 8,
   "metadata": {},
   "outputs": [],
   "source": [
    "train_carts = (df_order_products_train.groupby('user_id',as_index=False)\n",
    "                                      .agg({'product_id':(lambda x: set(x))})\n",
    "                                      .rename(columns={'product_id':'latest_cart'}))\n",
    "\n",
    "df_X = df_X.merge(train_carts, on='user_id')\n",
    "df_X['in_cart'] = (df_X.apply(lambda row: row['product_id'] in row['latest_cart'], axis=1).astype(int))"
   ]
  },
  {
   "cell_type": "markdown",
   "metadata": {},
   "source": [
    "# Initial Product Features"
   ]
  },
  {
   "cell_type": "code",
   "execution_count": 9,
   "metadata": {},
   "outputs": [],
   "source": [
    "prod_features = ['product_total_orders','product_avg_add_to_cart_order','product_avg_order_number','product_avg_dow',\\\n",
    "                'product_avg_hour_of_day','product_total_times_reordered','product_reordered_rate']\n",
    "\n",
    "df_prod_features = (df_order_products_prior.groupby(['product_id'],as_index=False)\n",
    "                                           .agg(OrderedDict(\n",
    "                                                   [('order_id','nunique'),\n",
    "                                                    ('add_to_cart_order','mean'),\n",
    "                                                    ('order_number', 'mean'),\n",
    "                                                    ('order_dow', 'mean'),\n",
    "                                                    ('order_hour_of_day', 'mean'),\n",
    "                                                    ('reordered', ['sum','mean'])])))\n",
    "df_prod_features.columns = ['product_id'] + prod_features\n",
    "\n",
    "df_X = df_X.merge(df_prod_features, on='product_id')"
   ]
  },
  {
   "cell_type": "markdown",
   "metadata": {},
   "source": [
    "# Initial User Features"
   ]
  },
  {
   "cell_type": "code",
   "execution_count": 10,
   "metadata": {},
   "outputs": [],
   "source": [
    "user_features = ['user_total_orders','user_avg_cartsize','user_total_products','user_avg_days_since_prior_order',\\\n",
    "                'user_avg_dow','user_avg_hour_of_day','user_total_reordered','user_reordered_percentage']\n",
    "\n",
    "df_user_features = (df_order_products_prior.groupby(['user_id'],as_index=False)\n",
    "                                           .agg(OrderedDict(\n",
    "                                                   [('order_id',['nunique', (lambda x: x.shape[0] / x.nunique())]),\n",
    "                                                    ('product_id','nunique'),\n",
    "                                                    ('days_since_prior_order','mean'),\n",
    "                                                    ('order_dow', 'mean'),\n",
    "                                                    ('order_hour_of_day', 'mean'),\n",
    "                                                    ('reordered', ['sum','mean'])])))\n",
    "\n",
    "df_user_features.columns = ['user_id'] + user_features\n",
    "df_user_features['user_avg_reordered'] = df_user_features['user_avg_cartsize'] * df_user_features['user_reordered_percentage']\n",
    "\n",
    "df_X = df_X.merge(df_user_features, on='user_id')"
   ]
  },
  {
   "cell_type": "markdown",
   "metadata": {},
   "source": [
    "# Initial User-Product Features"
   ]
  },
  {
   "cell_type": "code",
   "execution_count": 11,
   "metadata": {},
   "outputs": [],
   "source": [
    "user_prod_features = ['user_product_avg_add_to_cart_order','user_product_avg_order_dow',\\\n",
    "                      'user_product_avg_order_hour_of_day','user_product_avg_days_since_prior_order']\n",
    "\n",
    "df_user_prod_features = (df_order_products_prior.groupby(['product_id','user_id'],as_index=False) \\\n",
    "                                                .agg(OrderedDict(\n",
    "                                                     [('add_to_cart_order','mean'),\n",
    "                                                      ('order_dow', 'mean'),\n",
    "                                                      ('order_hour_of_day', 'mean'),\n",
    "                                                      ('days_since_prior_order', 'mean')])))\n",
    "\n",
    "df_user_prod_features.columns = ['product_id','user_id'] + user_prod_features \n",
    "\n",
    "df_X = df_X.merge(df_user_prod_features,on=['user_id','product_id'])\n",
    "\n",
    "df_X['user_product_order_freq'] = df_X['user_product_total_orders'] / df_X['user_total_orders'] "
   ]
  },
  {
   "cell_type": "code",
   "execution_count": 12,
   "metadata": {},
   "outputs": [],
   "source": [
    "# Replace NA values in the user_product_avg_days_since_prior_order column with -1 to indicate it was first purchase of item\n",
    "\n",
    "df_X = df_X.fillna(-1)"
   ]
  },
  {
   "cell_type": "code",
   "execution_count": 13,
   "metadata": {},
   "outputs": [],
   "source": [
    "# Save file out to csv\n",
    "df_X.to_csv('instacart_df_X.csv', index=False)"
   ]
  },
  {
   "cell_type": "markdown",
   "metadata": {},
   "source": [
    "# Adding additional user-product features"
   ]
  },
  {
   "cell_type": "code",
   "execution_count": 21,
   "metadata": {},
   "outputs": [],
   "source": [
    "df_X = pd.read_csv('instacart_df_X.csv')"
   ]
  },
  {
   "cell_type": "code",
   "execution_count": 7,
   "metadata": {},
   "outputs": [],
   "source": [
    "df_users1 = df_users[:20000]\n",
    "df_users2 = df_users[20000:40000]\n",
    "df_users3 = df_users[40000:60000]\n",
    "df_users4 = df_users[60000:80000]\n",
    "df_users5 = df_users[80000:100000]\n",
    "df_users6 = df_users[100000:120000]\n",
    "df_users7 = df_users[120000:]"
   ]
  },
  {
   "cell_type": "code",
   "execution_count": 19,
   "metadata": {},
   "outputs": [],
   "source": [
    "df_orders_since_reorder = df_order_products_prior[['product_id','user_id','order_number']]"
   ]
  },
  {
   "cell_type": "code",
   "execution_count": 20,
   "metadata": {},
   "outputs": [],
   "source": [
    "# Adding feature for number of orders since prior time product was ordered\n",
    "df_orders_since_reorder1 = df_orders_since_reorder.merge(df_users1, on=['user_id'])\n",
    "\n",
    "df_orders_since_reorder1 = (df_orders_since_reorder1.merge(df_orders_since_reorder1, on=['user_id','product_id'])\\\n",
    "                           .sort_values(by=['user_id','order_number_x','order_number_y'], ascending=False))\n",
    "\n",
    "df_orders_since_reorder1 = df_orders_since_reorder1[df_orders_since_reorder1['order_number_x'] > \\\n",
    "                                                  df_orders_since_reorder1['order_number_y']]\n",
    "\n",
    "df_orders_since_reorder1 = df_orders_since_reorder1.groupby(['product_id', 'user_id', 'order_number_x'])\\\n",
    "                                                        ['order_number_y'].max().reset_index()\n",
    "\n",
    "df_orders_since_reorder1['orders_since_prior'] = df_orders_since_reorder1['order_number_x'] - \\\n",
    "                                                df_orders_since_reorder1['order_number_y']\n",
    "    \n",
    "df_orders_since_reorder1 = df_orders_since_reorder1.rename(columns={'order_number_x':'order_number'})\n",
    "df_orders_since_reorder1 = df_orders_since_reorder1.drop(columns='order_number_y')"
   ]
  },
  {
   "cell_type": "code",
   "execution_count": 21,
   "metadata": {},
   "outputs": [],
   "source": [
    "# Adding feature for number of orders since prior time product was ordered\n",
    "df_orders_since_reorder2 = df_orders_since_reorder.merge(df_users2, on=['user_id'])\n",
    "\n",
    "df_orders_since_reorder2 = (df_orders_since_reorder2.merge(df_orders_since_reorder2, on=['user_id','product_id'])\\\n",
    "                           .sort_values(by=['user_id','order_number_x','order_number_y'], ascending=False))\n",
    "\n",
    "df_orders_since_reorder2 = df_orders_since_reorder2[df_orders_since_reorder2['order_number_x'] > \\\n",
    "                                                  df_orders_since_reorder2['order_number_y']]\n",
    "\n",
    "df_orders_since_reorder2 = df_orders_since_reorder2.groupby(['product_id', 'user_id', 'order_number_x'])\\\n",
    "                                                        ['order_number_y'].max().reset_index()\n",
    "\n",
    "df_orders_since_reorder2['orders_since_prior'] = df_orders_since_reorder2['order_number_x'] - \\\n",
    "                                                df_orders_since_reorder2['order_number_y']\n",
    "    \n",
    "df_orders_since_reorder2 = df_orders_since_reorder2.rename(columns={'order_number_x':'order_number'})\n",
    "df_orders_since_reorder2 = df_orders_since_reorder2.drop(columns='order_number_y')"
   ]
  },
  {
   "cell_type": "code",
   "execution_count": 22,
   "metadata": {},
   "outputs": [],
   "source": [
    "# Adding feature for number of orders since prior time product was ordered\n",
    "df_orders_since_reorder3 = df_orders_since_reorder.merge(df_users3, on=['user_id'])\n",
    "\n",
    "df_orders_since_reorder3 = (df_orders_since_reorder3.merge(df_orders_since_reorder3, on=['user_id','product_id'])\\\n",
    "                           .sort_values(by=['user_id','order_number_x','order_number_y'], ascending=False))\n",
    "\n",
    "df_orders_since_reorder3 = df_orders_since_reorder3[df_orders_since_reorder3['order_number_x'] > \\\n",
    "                                                  df_orders_since_reorder3['order_number_y']]\n",
    "\n",
    "df_orders_since_reorder3 = df_orders_since_reorder3.groupby(['product_id', 'user_id', 'order_number_x'])\\\n",
    "                                                        ['order_number_y'].max().reset_index()\n",
    "\n",
    "df_orders_since_reorder3['orders_since_prior'] = df_orders_since_reorder3['order_number_x'] - \\\n",
    "                                                df_orders_since_reorder3['order_number_y']\n",
    "    \n",
    "df_orders_since_reorder3 = df_orders_since_reorder3.rename(columns={'order_number_x':'order_number'})\n",
    "df_orders_since_reorder3 = df_orders_since_reorder3.drop(columns='order_number_y')"
   ]
  },
  {
   "cell_type": "code",
   "execution_count": 23,
   "metadata": {},
   "outputs": [],
   "source": [
    "# Adding feature for number of orders since prior time product was ordered\n",
    "df_orders_since_reorder4 = df_orders_since_reorder.merge(df_users4, on=['user_id'])\n",
    "\n",
    "df_orders_since_reorder4 = (df_orders_since_reorder4.merge(df_orders_since_reorder4, on=['user_id','product_id'])\\\n",
    "                           .sort_values(by=['user_id','order_number_x','order_number_y'], ascending=False))\n",
    "\n",
    "df_orders_since_reorder4 = df_orders_since_reorder4[df_orders_since_reorder4['order_number_x'] > \\\n",
    "                                                  df_orders_since_reorder4['order_number_y']]\n",
    "\n",
    "df_orders_since_reorder4 = df_orders_since_reorder4.groupby(['product_id', 'user_id', 'order_number_x'])\\\n",
    "                                                        ['order_number_y'].max().reset_index()\n",
    "\n",
    "df_orders_since_reorder4['orders_since_prior'] = df_orders_since_reorder4['order_number_x'] - \\\n",
    "                                                df_orders_since_reorder4['order_number_y']\n",
    "    \n",
    "df_orders_since_reorder4 = df_orders_since_reorder4.rename(columns={'order_number_x':'order_number'})\n",
    "df_orders_since_reorder4 = df_orders_since_reorder4.drop(columns='order_number_y')"
   ]
  },
  {
   "cell_type": "code",
   "execution_count": 24,
   "metadata": {},
   "outputs": [],
   "source": [
    "# Adding feature for number of orders since prior time product was ordered\n",
    "df_orders_since_reorder5 = df_orders_since_reorder.merge(df_users5, on=['user_id'])\n",
    "\n",
    "df_orders_since_reorder5 = (df_orders_since_reorder5.merge(df_orders_since_reorder5, on=['user_id','product_id'])\\\n",
    "                           .sort_values(by=['user_id','order_number_x','order_number_y'], ascending=False))\n",
    "\n",
    "df_orders_since_reorder5 = df_orders_since_reorder5[df_orders_since_reorder5['order_number_x'] > \\\n",
    "                                                  df_orders_since_reorder5['order_number_y']]\n",
    "\n",
    "df_orders_since_reorder5 = df_orders_since_reorder5.groupby(['product_id', 'user_id', 'order_number_x'])\\\n",
    "                                                        ['order_number_y'].max().reset_index()\n",
    "\n",
    "df_orders_since_reorder5['orders_since_prior'] = df_orders_since_reorder5['order_number_x'] - \\\n",
    "                                                df_orders_since_reorder5['order_number_y']\n",
    "    \n",
    "df_orders_since_reorder5 = df_orders_since_reorder5.rename(columns={'order_number_x':'order_number'})\n",
    "df_orders_since_reorder5 = df_orders_since_reorder5.drop(columns='order_number_y')"
   ]
  },
  {
   "cell_type": "code",
   "execution_count": 25,
   "metadata": {},
   "outputs": [],
   "source": [
    "# Adding feature for number of orders since prior time product was ordered\n",
    "df_orders_since_reorder6 = df_orders_since_reorder.merge(df_users6, on=['user_id'])\n",
    "\n",
    "df_orders_since_reorder6 = (df_orders_since_reorder6.merge(df_orders_since_reorder6, on=['user_id','product_id'])\\\n",
    "                           .sort_values(by=['user_id','order_number_x','order_number_y'], ascending=False))\n",
    "\n",
    "df_orders_since_reorder6 = df_orders_since_reorder6[df_orders_since_reorder6['order_number_x'] > \\\n",
    "                                                  df_orders_since_reorder6['order_number_y']]\n",
    "\n",
    "df_orders_since_reorder6 = df_orders_since_reorder6.groupby(['product_id', 'user_id', 'order_number_x'])\\\n",
    "                                                        ['order_number_y'].max().reset_index()\n",
    "\n",
    "df_orders_since_reorder6['orders_since_prior'] = df_orders_since_reorder6['order_number_x'] - \\\n",
    "                                                df_orders_since_reorder6['order_number_y']\n",
    "    \n",
    "df_orders_since_reorder6 = df_orders_since_reorder6.rename(columns={'order_number_x':'order_number'})\n",
    "df_orders_since_reorder6 = df_orders_since_reorder6.drop(columns='order_number_y')"
   ]
  },
  {
   "cell_type": "code",
   "execution_count": 26,
   "metadata": {},
   "outputs": [],
   "source": [
    "# Adding feature for number of orders since prior time product was ordered\n",
    "df_orders_since_reorder7 = df_orders_since_reorder.merge(df_users7, on=['user_id'])\n",
    "\n",
    "df_orders_since_reorder7 = (df_orders_since_reorder7.merge(df_orders_since_reorder7, on=['user_id','product_id'])\\\n",
    "                           .sort_values(by=['user_id','order_number_x','order_number_y'], ascending=False))\n",
    "\n",
    "df_orders_since_reorder7 = df_orders_since_reorder7[df_orders_since_reorder7['order_number_x'] > \\\n",
    "                                                  df_orders_since_reorder7['order_number_y']]\n",
    "\n",
    "df_orders_since_reorder7 = df_orders_since_reorder7.groupby(['product_id', 'user_id', 'order_number_x'])\\\n",
    "                                                        ['order_number_y'].max().reset_index()\n",
    "\n",
    "df_orders_since_reorder7['orders_since_prior'] = df_orders_since_reorder7['order_number_x'] - \\\n",
    "                                                df_orders_since_reorder7['order_number_y']\n",
    "    \n",
    "df_orders_since_reorder7 = df_orders_since_reorder7.rename(columns={'order_number_x':'order_number'})\n",
    "df_orders_since_reorder7 = df_orders_since_reorder7.drop(columns='order_number_y')"
   ]
  },
  {
   "cell_type": "code",
   "execution_count": 27,
   "metadata": {},
   "outputs": [],
   "source": [
    "df_orders_since_reorder_list = [df_orders_since_reorder1, df_orders_since_reorder2, df_orders_since_reorder3, \\\n",
    "                                df_orders_since_reorder4, df_orders_since_reorder5, df_orders_since_reorder6, \\\n",
    "                               df_orders_since_reorder7]"
   ]
  },
  {
   "cell_type": "code",
   "execution_count": 28,
   "metadata": {},
   "outputs": [],
   "source": [
    "df_orders_since_reorder = pd.concat(df_orders_since_reorder_list)"
   ]
  },
  {
   "cell_type": "code",
   "execution_count": 29,
   "metadata": {},
   "outputs": [],
   "source": [
    "df_order_products_prior = df_order_products_prior.merge(df_orders_since_reorder, on=['product_id','user_id','order_number'], how='left')"
   ]
  },
  {
   "cell_type": "code",
   "execution_count": 30,
   "metadata": {},
   "outputs": [],
   "source": [
    "user_prod_features2 = ['user_product_orders_since_prior']\n",
    "\n",
    "df_user_prod_features2 = (df_order_products_prior.groupby(['product_id','user_id'],as_index=False) \\\n",
    "                                                .agg(OrderedDict(\n",
    "                                                     [('orders_since_prior','mean')])))\n",
    "\n",
    "df_user_prod_features2.columns = ['product_id','user_id'] + user_prod_features2"
   ]
  },
  {
   "cell_type": "code",
   "execution_count": 31,
   "metadata": {},
   "outputs": [],
   "source": [
    "df_X = df_X.merge(df_user_prod_features2,on=['user_id','product_id'])\n",
    "\n",
    "df_X = df_X.fillna(-1)"
   ]
  },
  {
   "cell_type": "code",
   "execution_count": 32,
   "metadata": {},
   "outputs": [],
   "source": [
    "del df_orders_since_reorder\n",
    "del df_orders_since_reorder_list\n",
    "del df_orders_since_reorder1\n",
    "del df_orders_since_reorder2\n",
    "del df_orders_since_reorder3\n",
    "del df_orders_since_reorder4\n",
    "del df_orders_since_reorder5\n",
    "del df_orders_since_reorder6\n",
    "del df_orders_since_reorder7"
   ]
  },
  {
   "cell_type": "code",
   "execution_count": 33,
   "metadata": {},
   "outputs": [],
   "source": [
    "# Save file out to csv\n",
    "df_X.to_csv('instacart_df_X.csv', index=False)"
   ]
  },
  {
   "cell_type": "code",
   "execution_count": 3,
   "metadata": {},
   "outputs": [],
   "source": [
    "df_X = pd.read_csv('instacart_df_X.csv')"
   ]
  },
  {
   "cell_type": "code",
   "execution_count": 6,
   "metadata": {},
   "outputs": [],
   "source": [
    "df_users1 = df_users[:10000]\n",
    "df_users2 = df_users[10000:20000]\n",
    "df_users3 = df_users[20000:30000]\n",
    "df_users4 = df_users[30000:40000]\n",
    "df_users5 = df_users[40000:50000]\n",
    "df_users6 = df_users[50000:60000]\n",
    "df_users7 = df_users[60000:70000]\n",
    "df_users8 = df_users[70000:80000]\n",
    "df_users9 = df_users[80000:90000]\n",
    "df_users10 = df_users[90000:100000]\n",
    "df_users11 = df_users[100000:110000]\n",
    "df_users12 = df_users[110000:120000]\n",
    "df_users13 = df_users[120000:130000]\n",
    "df_users14 = df_users[130000:]"
   ]
  },
  {
   "cell_type": "code",
   "execution_count": 5,
   "metadata": {},
   "outputs": [],
   "source": [
    "df_orders_since_reorder_dpt = df_order_products_prior[['product_id','user_id','order_number','department']]"
   ]
  },
  {
   "cell_type": "code",
   "execution_count": 7,
   "metadata": {},
   "outputs": [],
   "source": [
    "# Adding feature for number of orders since user ordered product from same department\n",
    "df_orders_since_reorder_dpt1 = df_orders_since_reorder_dpt.merge(df_users1, on=['user_id'])\n",
    "\n",
    "df_orders_since_reorder_dpt1 = (df_orders_since_reorder_dpt1.merge(df_orders_since_reorder_dpt1, on=['user_id','department'])\\\n",
    "                           .sort_values(by=['user_id','order_number_x','order_number_y'], ascending=False))\n",
    "\n",
    "df_orders_since_reorder_dpt1 = df_orders_since_reorder_dpt1[df_orders_since_reorder_dpt1['order_number_x'] > \\\n",
    "                                                  df_orders_since_reorder_dpt1['order_number_y']]\n",
    "\n",
    "df_orders_since_reorder_dpt1 = df_orders_since_reorder_dpt1.groupby(['product_id_x','user_id','order_number_x','department'])\\\n",
    "                                                        ['order_number_y'].max().reset_index()\n",
    "\n",
    "df_orders_since_reorder_dpt1['orders_since_prior_department'] = df_orders_since_reorder_dpt1['order_number_x'] - \\\n",
    "                                                df_orders_since_reorder_dpt1['order_number_y']\n",
    "    \n",
    "df_orders_since_reorder_dpt1 = df_orders_since_reorder_dpt1.rename(columns={'order_number_x':'order_number',\\\n",
    "                                                                             'product_id_x':'product_id'})\n",
    "df_orders_since_reorder_dpt1 = df_orders_since_reorder_dpt1.drop(columns='order_number_y')"
   ]
  },
  {
   "cell_type": "code",
   "execution_count": 8,
   "metadata": {},
   "outputs": [],
   "source": [
    "# Adding feature for number of orders since user ordered product from same department\n",
    "df_orders_since_reorder_dpt2 = df_orders_since_reorder_dpt.merge(df_users2, on=['user_id'])\n",
    "\n",
    "df_orders_since_reorder_dpt2 = (df_orders_since_reorder_dpt2.merge(df_orders_since_reorder_dpt2, on=['user_id','department'])\\\n",
    "                           .sort_values(by=['user_id','order_number_x','order_number_y'], ascending=False))\n",
    "\n",
    "df_orders_since_reorder_dpt2 = df_orders_since_reorder_dpt2[df_orders_since_reorder_dpt2['order_number_x'] > \\\n",
    "                                                  df_orders_since_reorder_dpt2['order_number_y']]\n",
    "\n",
    "df_orders_since_reorder_dpt2 = df_orders_since_reorder_dpt2.groupby(['product_id_x','user_id','order_number_x','department'])\\\n",
    "                                                        ['order_number_y'].max().reset_index()\n",
    "\n",
    "df_orders_since_reorder_dpt2['orders_since_prior_department'] = df_orders_since_reorder_dpt2['order_number_x'] - \\\n",
    "                                                df_orders_since_reorder_dpt2['order_number_y']\n",
    "    \n",
    "df_orders_since_reorder_dpt2 = df_orders_since_reorder_dpt2.rename(columns={'order_number_x':'order_number',\\\n",
    "                                                                             'product_id_x':'product_id'})\n",
    "df_orders_since_reorder_dpt2 = df_orders_since_reorder_dpt2.drop(columns='order_number_y')"
   ]
  },
  {
   "cell_type": "code",
   "execution_count": 9,
   "metadata": {},
   "outputs": [],
   "source": [
    "# Adding feature for number of orders since user ordered product from same department\n",
    "df_orders_since_reorder_dpt3 = df_orders_since_reorder_dpt.merge(df_users3, on=['user_id'])\n",
    "\n",
    "df_orders_since_reorder_dpt3 = (df_orders_since_reorder_dpt3.merge(df_orders_since_reorder_dpt3, on=['user_id','department'])\\\n",
    "                           .sort_values(by=['user_id','order_number_x','order_number_y'], ascending=False))\n",
    "\n",
    "df_orders_since_reorder_dpt3 = df_orders_since_reorder_dpt3[df_orders_since_reorder_dpt3['order_number_x'] > \\\n",
    "                                                  df_orders_since_reorder_dpt3['order_number_y']]\n",
    "\n",
    "df_orders_since_reorder_dpt3 = df_orders_since_reorder_dpt3.groupby(['product_id_x','user_id','order_number_x','department'])\\\n",
    "                                                        ['order_number_y'].max().reset_index()\n",
    "\n",
    "df_orders_since_reorder_dpt3['orders_since_prior_department'] = df_orders_since_reorder_dpt3['order_number_x'] - \\\n",
    "                                                df_orders_since_reorder_dpt3['order_number_y']\n",
    "    \n",
    "df_orders_since_reorder_dpt3 = df_orders_since_reorder_dpt3.rename(columns={'order_number_x':'order_number',\\\n",
    "                                                                             'product_id_x':'product_id'})\n",
    "df_orders_since_reorder_dpt3 = df_orders_since_reorder_dpt3.drop(columns='order_number_y')"
   ]
  },
  {
   "cell_type": "code",
   "execution_count": 10,
   "metadata": {},
   "outputs": [],
   "source": [
    "# Adding feature for number of orders since user ordered product from same department\n",
    "df_orders_since_reorder_dpt4 = df_orders_since_reorder_dpt.merge(df_users4, on=['user_id'])\n",
    "\n",
    "df_orders_since_reorder_dpt4 = (df_orders_since_reorder_dpt4.merge(df_orders_since_reorder_dpt4, on=['user_id','department'])\\\n",
    "                           .sort_values(by=['user_id','order_number_x','order_number_y'], ascending=False))\n",
    "\n",
    "df_orders_since_reorder_dpt4 = df_orders_since_reorder_dpt4[df_orders_since_reorder_dpt4['order_number_x'] > \\\n",
    "                                                  df_orders_since_reorder_dpt4['order_number_y']]\n",
    "\n",
    "df_orders_since_reorder_dpt4 = df_orders_since_reorder_dpt4.groupby(['product_id_x','user_id','order_number_x','department'])\\\n",
    "                                                        ['order_number_y'].max().reset_index()\n",
    "\n",
    "df_orders_since_reorder_dpt4['orders_since_prior_department'] = df_orders_since_reorder_dpt4['order_number_x'] - \\\n",
    "                                                df_orders_since_reorder_dpt4['order_number_y']\n",
    "    \n",
    "df_orders_since_reorder_dpt4 = df_orders_since_reorder_dpt4.rename(columns={'order_number_x':'order_number',\\\n",
    "                                                                             'product_id_x':'product_id'})\n",
    "df_orders_since_reorder_dpt4 = df_orders_since_reorder_dpt4.drop(columns='order_number_y')"
   ]
  },
  {
   "cell_type": "code",
   "execution_count": 11,
   "metadata": {},
   "outputs": [],
   "source": [
    "# Adding feature for number of orders since user ordered product from same department\n",
    "df_orders_since_reorder_dpt5 = df_orders_since_reorder_dpt.merge(df_users5, on=['user_id'])\n",
    "\n",
    "df_orders_since_reorder_dpt5 = (df_orders_since_reorder_dpt5.merge(df_orders_since_reorder_dpt5, on=['user_id','department'])\\\n",
    "                           .sort_values(by=['user_id','order_number_x','order_number_y'], ascending=False))\n",
    "\n",
    "df_orders_since_reorder_dpt5 = df_orders_since_reorder_dpt5[df_orders_since_reorder_dpt5['order_number_x'] > \\\n",
    "                                                  df_orders_since_reorder_dpt5['order_number_y']]\n",
    "\n",
    "df_orders_since_reorder_dpt5 = df_orders_since_reorder_dpt5.groupby(['product_id_x','user_id','order_number_x','department'])\\\n",
    "                                                        ['order_number_y'].max().reset_index()\n",
    "\n",
    "df_orders_since_reorder_dpt5['orders_since_prior_department'] = df_orders_since_reorder_dpt5['order_number_x'] - \\\n",
    "                                                df_orders_since_reorder_dpt5['order_number_y']\n",
    "    \n",
    "df_orders_since_reorder_dpt5 = df_orders_since_reorder_dpt5.rename(columns={'order_number_x':'order_number',\\\n",
    "                                                                             'product_id_x':'product_id'})\n",
    "df_orders_since_reorder_dpt5 = df_orders_since_reorder_dpt5.drop(columns='order_number_y')"
   ]
  },
  {
   "cell_type": "code",
   "execution_count": 12,
   "metadata": {},
   "outputs": [],
   "source": [
    "# Adding feature for number of orders since user ordered product from same department\n",
    "df_orders_since_reorder_dpt6 = df_orders_since_reorder_dpt.merge(df_users6, on=['user_id'])\n",
    "\n",
    "df_orders_since_reorder_dpt6 = (df_orders_since_reorder_dpt6.merge(df_orders_since_reorder_dpt6, on=['user_id','department'])\\\n",
    "                           .sort_values(by=['user_id','order_number_x','order_number_y'], ascending=False))\n",
    "\n",
    "df_orders_since_reorder_dpt6 = df_orders_since_reorder_dpt6[df_orders_since_reorder_dpt6['order_number_x'] > \\\n",
    "                                                  df_orders_since_reorder_dpt6['order_number_y']]\n",
    "\n",
    "df_orders_since_reorder_dpt6 = df_orders_since_reorder_dpt6.groupby(['product_id_x','user_id','order_number_x','department'])\\\n",
    "                                                        ['order_number_y'].max().reset_index()\n",
    "\n",
    "df_orders_since_reorder_dpt6['orders_since_prior_department'] = df_orders_since_reorder_dpt6['order_number_x'] - \\\n",
    "                                                df_orders_since_reorder_dpt6['order_number_y']\n",
    "    \n",
    "df_orders_since_reorder_dpt6 = df_orders_since_reorder_dpt6.rename(columns={'order_number_x':'order_number',\\\n",
    "                                                                             'product_id_x':'product_id'})\n",
    "df_orders_since_reorder_dpt6 = df_orders_since_reorder_dpt6.drop(columns='order_number_y')"
   ]
  },
  {
   "cell_type": "code",
   "execution_count": 13,
   "metadata": {},
   "outputs": [],
   "source": [
    "# Adding feature for number of orders since user ordered product from same department\n",
    "df_orders_since_reorder_dpt7 = df_orders_since_reorder_dpt.merge(df_users7, on=['user_id'])\n",
    "\n",
    "df_orders_since_reorder_dpt7 = (df_orders_since_reorder_dpt7.merge(df_orders_since_reorder_dpt7, on=['user_id','department'])\\\n",
    "                           .sort_values(by=['user_id','order_number_x','order_number_y'], ascending=False))\n",
    "\n",
    "df_orders_since_reorder_dpt7 = df_orders_since_reorder_dpt7[df_orders_since_reorder_dpt7['order_number_x'] > \\\n",
    "                                                  df_orders_since_reorder_dpt7['order_number_y']]\n",
    "\n",
    "df_orders_since_reorder_dpt7 = df_orders_since_reorder_dpt7.groupby(['product_id_x','user_id','order_number_x','department'])\\\n",
    "                                                        ['order_number_y'].max().reset_index()\n",
    "\n",
    "df_orders_since_reorder_dpt7['orders_since_prior_department'] = df_orders_since_reorder_dpt7['order_number_x'] - \\\n",
    "                                                df_orders_since_reorder_dpt7['order_number_y']\n",
    "    \n",
    "df_orders_since_reorder_dpt7 = df_orders_since_reorder_dpt7.rename(columns={'order_number_x':'order_number',\\\n",
    "                                                                             'product_id_x':'product_id'})\n",
    "df_orders_since_reorder_dpt7 = df_orders_since_reorder_dpt7.drop(columns='order_number_y')"
   ]
  },
  {
   "cell_type": "code",
   "execution_count": 14,
   "metadata": {},
   "outputs": [],
   "source": [
    "# Adding feature for number of orders since user ordered product from same department\n",
    "df_orders_since_reorder_dpt8 = df_orders_since_reorder_dpt.merge(df_users8, on=['user_id'])\n",
    "\n",
    "df_orders_since_reorder_dpt8 = (df_orders_since_reorder_dpt8.merge(df_orders_since_reorder_dpt8, on=['user_id','department'])\\\n",
    "                           .sort_values(by=['user_id','order_number_x','order_number_y'], ascending=False))\n",
    "\n",
    "df_orders_since_reorder_dpt8 = df_orders_since_reorder_dpt8[df_orders_since_reorder_dpt8['order_number_x'] > \\\n",
    "                                                  df_orders_since_reorder_dpt8['order_number_y']]\n",
    "\n",
    "df_orders_since_reorder_dpt8 = df_orders_since_reorder_dpt8.groupby(['product_id_x','user_id','order_number_x','department'])\\\n",
    "                                                        ['order_number_y'].max().reset_index()\n",
    "\n",
    "df_orders_since_reorder_dpt8['orders_since_prior_department'] = df_orders_since_reorder_dpt8['order_number_x'] - \\\n",
    "                                                df_orders_since_reorder_dpt8['order_number_y']\n",
    "    \n",
    "df_orders_since_reorder_dpt8 = df_orders_since_reorder_dpt8.rename(columns={'order_number_x':'order_number',\\\n",
    "                                                                             'product_id_x':'product_id'})\n",
    "df_orders_since_reorder_dpt8 = df_orders_since_reorder_dpt8.drop(columns='order_number_y')"
   ]
  },
  {
   "cell_type": "code",
   "execution_count": 15,
   "metadata": {},
   "outputs": [],
   "source": [
    "# Adding feature for number of orders since user ordered product from same department\n",
    "df_orders_since_reorder_dpt9 = df_orders_since_reorder_dpt.merge(df_users9, on=['user_id'])\n",
    "\n",
    "df_orders_since_reorder_dpt9 = (df_orders_since_reorder_dpt9.merge(df_orders_since_reorder_dpt9, on=['user_id','department'])\\\n",
    "                           .sort_values(by=['user_id','order_number_x','order_number_y'], ascending=False))\n",
    "\n",
    "df_orders_since_reorder_dpt9 = df_orders_since_reorder_dpt9[df_orders_since_reorder_dpt9['order_number_x'] > \\\n",
    "                                                  df_orders_since_reorder_dpt9['order_number_y']]\n",
    "\n",
    "df_orders_since_reorder_dpt9 = df_orders_since_reorder_dpt9.groupby(['product_id_x','user_id','order_number_x','department'])\\\n",
    "                                                        ['order_number_y'].max().reset_index()\n",
    "\n",
    "df_orders_since_reorder_dpt9['orders_since_prior_department'] = df_orders_since_reorder_dpt9['order_number_x'] - \\\n",
    "                                                df_orders_since_reorder_dpt9['order_number_y']\n",
    "    \n",
    "df_orders_since_reorder_dpt9 = df_orders_since_reorder_dpt9.rename(columns={'order_number_x':'order_number',\\\n",
    "                                                                             'product_id_x':'product_id'})\n",
    "df_orders_since_reorder_dpt9 = df_orders_since_reorder_dpt9.drop(columns='order_number_y')"
   ]
  },
  {
   "cell_type": "code",
   "execution_count": 16,
   "metadata": {},
   "outputs": [],
   "source": [
    "# Adding feature for number of orders since user ordered product from same department\n",
    "df_orders_since_reorder_dpt10 = df_orders_since_reorder_dpt.merge(df_users10, on=['user_id'])\n",
    "\n",
    "df_orders_since_reorder_dpt10 = (df_orders_since_reorder_dpt10.merge(df_orders_since_reorder_dpt10, on=['user_id','department'])\\\n",
    "                           .sort_values(by=['user_id','order_number_x','order_number_y'], ascending=False))\n",
    "\n",
    "df_orders_since_reorder_dpt10 = df_orders_since_reorder_dpt10[df_orders_since_reorder_dpt10['order_number_x'] > \\\n",
    "                                                  df_orders_since_reorder_dpt10['order_number_y']]\n",
    "\n",
    "df_orders_since_reorder_dpt10 = df_orders_since_reorder_dpt10.groupby(['product_id_x','user_id','order_number_x','department'])\\\n",
    "                                                        ['order_number_y'].max().reset_index()\n",
    "\n",
    "df_orders_since_reorder_dpt10['orders_since_prior_department'] = df_orders_since_reorder_dpt10['order_number_x'] - \\\n",
    "                                                df_orders_since_reorder_dpt10['order_number_y']\n",
    "    \n",
    "df_orders_since_reorder_dpt10 = df_orders_since_reorder_dpt10.rename(columns={'order_number_x':'order_number',\\\n",
    "                                                                             'product_id_x':'product_id'})\n",
    "df_orders_since_reorder_dpt10 = df_orders_since_reorder_dpt10.drop(columns='order_number_y')"
   ]
  },
  {
   "cell_type": "code",
   "execution_count": 17,
   "metadata": {},
   "outputs": [],
   "source": [
    "# Adding feature for number of orders since user ordered product from same department\n",
    "df_orders_since_reorder_dpt11 = df_orders_since_reorder_dpt.merge(df_users11, on=['user_id'])\n",
    "\n",
    "df_orders_since_reorder_dpt11 = (df_orders_since_reorder_dpt11.merge(df_orders_since_reorder_dpt11, on=['user_id','department'])\\\n",
    "                           .sort_values(by=['user_id','order_number_x','order_number_y'], ascending=False))\n",
    "\n",
    "df_orders_since_reorder_dpt11 = df_orders_since_reorder_dpt11[df_orders_since_reorder_dpt11['order_number_x'] > \\\n",
    "                                                  df_orders_since_reorder_dpt11['order_number_y']]\n",
    "\n",
    "df_orders_since_reorder_dpt11 = df_orders_since_reorder_dpt11.groupby(['product_id_x','user_id','order_number_x','department'])\\\n",
    "                                                        ['order_number_y'].max().reset_index()\n",
    "\n",
    "df_orders_since_reorder_dpt11['orders_since_prior_department'] = df_orders_since_reorder_dpt11['order_number_x'] - \\\n",
    "                                                df_orders_since_reorder_dpt11['order_number_y']\n",
    "    \n",
    "df_orders_since_reorder_dpt11 = df_orders_since_reorder_dpt11.rename(columns={'order_number_x':'order_number',\\\n",
    "                                                                             'product_id_x':'product_id'})\n",
    "df_orders_since_reorder_dpt11 = df_orders_since_reorder_dpt11.drop(columns='order_number_y')"
   ]
  },
  {
   "cell_type": "code",
   "execution_count": 18,
   "metadata": {},
   "outputs": [],
   "source": [
    "# Adding feature for number of orders since user ordered product from same department\n",
    "df_orders_since_reorder_dpt12 = df_orders_since_reorder_dpt.merge(df_users12, on=['user_id'])\n",
    "\n",
    "df_orders_since_reorder_dpt12 = (df_orders_since_reorder_dpt12.merge(df_orders_since_reorder_dpt12, on=['user_id','department'])\\\n",
    "                           .sort_values(by=['user_id','order_number_x','order_number_y'], ascending=False))\n",
    "\n",
    "df_orders_since_reorder_dpt12 = df_orders_since_reorder_dpt12[df_orders_since_reorder_dpt12['order_number_x'] > \\\n",
    "                                                  df_orders_since_reorder_dpt12['order_number_y']]\n",
    "\n",
    "df_orders_since_reorder_dpt12 = df_orders_since_reorder_dpt12.groupby(['product_id_x','user_id','order_number_x','department'])\\\n",
    "                                                        ['order_number_y'].max().reset_index()\n",
    "\n",
    "df_orders_since_reorder_dpt12['orders_since_prior_department'] = df_orders_since_reorder_dpt12['order_number_x'] - \\\n",
    "                                                df_orders_since_reorder_dpt12['order_number_y']\n",
    "    \n",
    "df_orders_since_reorder_dpt12 = df_orders_since_reorder_dpt12.rename(columns={'order_number_x':'order_number',\\\n",
    "                                                                             'product_id_x':'product_id'})\n",
    "df_orders_since_reorder_dpt12 = df_orders_since_reorder_dpt12.drop(columns='order_number_y')"
   ]
  },
  {
   "cell_type": "code",
   "execution_count": 19,
   "metadata": {},
   "outputs": [],
   "source": [
    "# Adding feature for number of orders since user ordered product from same department\n",
    "df_orders_since_reorder_dpt13 = df_orders_since_reorder_dpt.merge(df_users13, on=['user_id'])\n",
    "\n",
    "df_orders_since_reorder_dpt13 = (df_orders_since_reorder_dpt13.merge(df_orders_since_reorder_dpt13, on=['user_id','department'])\\\n",
    "                           .sort_values(by=['user_id','order_number_x','order_number_y'], ascending=False))\n",
    "\n",
    "df_orders_since_reorder_dpt13 = df_orders_since_reorder_dpt13[df_orders_since_reorder_dpt13['order_number_x'] > \\\n",
    "                                                  df_orders_since_reorder_dpt13['order_number_y']]\n",
    "\n",
    "df_orders_since_reorder_dpt13 = df_orders_since_reorder_dpt13.groupby(['product_id_x','user_id','order_number_x','department'])\\\n",
    "                                                        ['order_number_y'].max().reset_index()\n",
    "\n",
    "df_orders_since_reorder_dpt13['orders_since_prior_department'] = df_orders_since_reorder_dpt13['order_number_x'] - \\\n",
    "                                                df_orders_since_reorder_dpt13['order_number_y']\n",
    "    \n",
    "df_orders_since_reorder_dpt13 = df_orders_since_reorder_dpt13.rename(columns={'order_number_x':'order_number',\\\n",
    "                                                                             'product_id_x':'product_id'})\n",
    "df_orders_since_reorder_dpt13 = df_orders_since_reorder_dpt13.drop(columns='order_number_y')"
   ]
  },
  {
   "cell_type": "code",
   "execution_count": 20,
   "metadata": {},
   "outputs": [],
   "source": [
    "# Adding feature for number of orders since user ordered product from same department\n",
    "df_orders_since_reorder_dpt14 = df_orders_since_reorder_dpt.merge(df_users14, on=['user_id'])\n",
    "\n",
    "df_orders_since_reorder_dpt14 = (df_orders_since_reorder_dpt14.merge(df_orders_since_reorder_dpt14, on=['user_id','department'])\\\n",
    "                           .sort_values(by=['user_id','order_number_x','order_number_y'], ascending=False))\n",
    "\n",
    "df_orders_since_reorder_dpt14 = df_orders_since_reorder_dpt14[df_orders_since_reorder_dpt14['order_number_x'] > \\\n",
    "                                                  df_orders_since_reorder_dpt14['order_number_y']]\n",
    "\n",
    "df_orders_since_reorder_dpt14 = df_orders_since_reorder_dpt14.groupby(['product_id_x','user_id','order_number_x','department'])\\\n",
    "                                                        ['order_number_y'].max().reset_index()\n",
    "\n",
    "df_orders_since_reorder_dpt14['orders_since_prior_department'] = df_orders_since_reorder_dpt14['order_number_x'] - \\\n",
    "                                                df_orders_since_reorder_dpt14['order_number_y']\n",
    "    \n",
    "df_orders_since_reorder_dpt14 = df_orders_since_reorder_dpt14.rename(columns={'order_number_x':'order_number',\\\n",
    "                                                                             'product_id_x':'product_id'})\n",
    "df_orders_since_reorder_dpt14 = df_orders_since_reorder_dpt14.drop(columns='order_number_y')"
   ]
  },
  {
   "cell_type": "code",
   "execution_count": 25,
   "metadata": {},
   "outputs": [],
   "source": [
    "df_orders_since_reorder_dpt_list = [df_orders_since_reorder_dpt1, df_orders_since_reorder_dpt2, df_orders_since_reorder_dpt3, \\\n",
    "                                df_orders_since_reorder_dpt4, df_orders_since_reorder_dpt5, df_orders_since_reorder_dpt6, \\\n",
    "                                df_orders_since_reorder_dpt7, df_orders_since_reorder_dpt8, df_orders_since_reorder_dpt9, \\\n",
    "                                df_orders_since_reorder_dpt10, df_orders_since_reorder_dpt11, df_orders_since_reorder_dpt12, \\\n",
    "                                df_orders_since_reorder_dpt13, df_orders_since_reorder_dpt14]"
   ]
  },
  {
   "cell_type": "code",
   "execution_count": 26,
   "metadata": {},
   "outputs": [],
   "source": [
    "df_orders_since_reorder_dpt = pd.concat(df_orders_since_reorder_dpt_list)"
   ]
  },
  {
   "cell_type": "code",
   "execution_count": 27,
   "metadata": {},
   "outputs": [],
   "source": [
    "df_order_products_prior = df_order_products_prior.merge(df_orders_since_reorder_dpt, on=['product_id','user_id','order_number'], how='left')"
   ]
  },
  {
   "cell_type": "code",
   "execution_count": 28,
   "metadata": {},
   "outputs": [],
   "source": [
    "user_prod_features2 = ['user_product_orders_since_prior_department']\n",
    "\n",
    "df_user_prod_features2 = (df_order_products_prior.groupby(['product_id','user_id'],as_index=False) \\\n",
    "                                                .agg(OrderedDict(\n",
    "                                                     [('orders_since_prior_department','mean')])))\n",
    "\n",
    "df_user_prod_features2.columns = ['product_id','user_id'] + user_prod_features2"
   ]
  },
  {
   "cell_type": "code",
   "execution_count": 29,
   "metadata": {},
   "outputs": [],
   "source": [
    "df_X = df_X.merge(df_user_prod_features2,on=['user_id','product_id'])\n",
    "\n",
    "df_X = df_X.fillna(-1)"
   ]
  },
  {
   "cell_type": "code",
   "execution_count": 30,
   "metadata": {},
   "outputs": [],
   "source": [
    "# Save file out to csv\n",
    "df_X.to_csv('instacart_df_X.csv', index=False)"
   ]
  },
  {
   "cell_type": "code",
   "execution_count": null,
   "metadata": {},
   "outputs": [],
   "source": [
    "del df_orders_since_reorder_dpt\n",
    "del df_orders_since_reorder_dpt_list\n",
    "del df_orders_since_reorder_dpt1\n",
    "del df_orders_since_reorder_dpt2\n",
    "del df_orders_since_reorder_dpt3\n",
    "del df_orders_since_reorder_dpt4\n",
    "del df_orders_since_reorder_dpt5\n",
    "del df_orders_since_reorder_dpt6\n",
    "del df_orders_since_reorder_dpt7\n",
    "del df_orders_since_reorder_dpt8\n",
    "del df_orders_since_reorder_dpt9\n",
    "del df_orders_since_reorder_dpt10\n",
    "del df_orders_since_reorder_dpt11\n",
    "del df_orders_since_reorder_dpt12\n",
    "del df_orders_since_reorder_dpt13\n",
    "del df_orders_since_reorder_dpt14"
   ]
  },
  {
   "cell_type": "markdown",
   "metadata": {},
   "source": [
    "# Adding more product features"
   ]
  },
  {
   "cell_type": "code",
   "execution_count": 3,
   "metadata": {},
   "outputs": [],
   "source": [
    "df_X = pd.read_csv('instacart_df_X.csv')"
   ]
  },
  {
   "cell_type": "code",
   "execution_count": 10,
   "metadata": {},
   "outputs": [],
   "source": [
    "user_current_order = df_order_products_train.groupby(['user_id', 'order_dow', 'order_hour_of_day'])['order_id'].nunique().reset_index()\n",
    "user_current_order = user_current_order.drop(columns='order_id')\n",
    "df_X = df_X.merge(user_current_order, on='user_id')"
   ]
  },
  {
   "cell_type": "code",
   "execution_count": 11,
   "metadata": {},
   "outputs": [],
   "source": [
    "df_X['product_avg_dow_delta'] = df_X['order_dow'] - df_X['product_avg_dow']\n",
    "df_X['product_avg_hod_delta'] = df_X['order_hour_of_day'] - df_X['product_avg_hour_of_day']"
   ]
  },
  {
   "cell_type": "code",
   "execution_count": 12,
   "metadata": {},
   "outputs": [],
   "source": [
    "df_X = df_X.drop(columns=['order_dow', 'order_hour_of_day'])"
   ]
  },
  {
   "cell_type": "markdown",
   "metadata": {},
   "source": [
    "# Adding additional User-product features"
   ]
  },
  {
   "cell_type": "code",
   "execution_count": 13,
   "metadata": {},
   "outputs": [],
   "source": [
    "df_users1 = df_users[:20000]\n",
    "df_users2 = df_users[20000:40000]\n",
    "df_users3 = df_users[40000:60000]\n",
    "df_users4 = df_users[60000:80000]\n",
    "df_users5 = df_users[80000:100000]\n",
    "df_users6 = df_users[100000:120000]\n",
    "df_users7 = df_users[120000:]"
   ]
  },
  {
   "cell_type": "code",
   "execution_count": 15,
   "metadata": {},
   "outputs": [],
   "source": [
    "df_consecutive_orders = df_order_products_prior[['product_id','user_id','order_number']]"
   ]
  },
  {
   "cell_type": "code",
   "execution_count": 16,
   "metadata": {},
   "outputs": [],
   "source": [
    "# Adding feature for consecutive orders\n",
    "df_consecutive_orders1 = df_consecutive_orders.merge(df_users1, on=['user_id'])\n",
    "\n",
    "df_consecutive_orders1 = (df_consecutive_orders1.merge(df_consecutive_orders1, on=['user_id','product_id'])\\\n",
    "                           .sort_values(by=['user_id','order_number_x','order_number_y'], ascending=False))\n",
    "\n",
    "df_consecutive_orders1 = df_consecutive_orders1[df_consecutive_orders1['order_number_x'] - \\\n",
    "                                                  df_consecutive_orders1['order_number_y'] == 1]\n",
    "\n",
    "df_consecutive_orders1['ones'] = 1\n",
    "\n",
    "df_consecutive_orders1 = df_consecutive_orders1.groupby(['product_id', 'user_id'])\\\n",
    "                                                        ['ones'].sum().reset_index()\n",
    "\n",
    "    \n",
    "df_consecutive_orders1 = df_consecutive_orders1.rename(columns={'ones':'consecutive_reorders'})"
   ]
  },
  {
   "cell_type": "code",
   "execution_count": 17,
   "metadata": {},
   "outputs": [],
   "source": [
    "# Adding feature for consecutive orders\n",
    "df_consecutive_orders2 = df_consecutive_orders.merge(df_users2, on=['user_id'])\n",
    "\n",
    "df_consecutive_orders2 = (df_consecutive_orders2.merge(df_consecutive_orders2, on=['user_id','product_id'])\\\n",
    "                           .sort_values(by=['user_id','order_number_x','order_number_y'], ascending=False))\n",
    "\n",
    "df_consecutive_orders2 = df_consecutive_orders2[df_consecutive_orders2['order_number_x'] - \\\n",
    "                                                  df_consecutive_orders2['order_number_y'] == 1]\n",
    "\n",
    "df_consecutive_orders2['ones'] = 1\n",
    "\n",
    "df_consecutive_orders2 = df_consecutive_orders2.groupby(['product_id', 'user_id'])\\\n",
    "                                                        ['ones'].sum().reset_index()\n",
    "\n",
    "    \n",
    "df_consecutive_orders2 = df_consecutive_orders2.rename(columns={'ones':'consecutive_reorders'})"
   ]
  },
  {
   "cell_type": "code",
   "execution_count": 18,
   "metadata": {},
   "outputs": [],
   "source": [
    "# Adding feature for consecutive orders\n",
    "df_consecutive_orders3 = df_consecutive_orders.merge(df_users3, on=['user_id'])\n",
    "\n",
    "df_consecutive_orders3 = (df_consecutive_orders3.merge(df_consecutive_orders3, on=['user_id','product_id'])\\\n",
    "                           .sort_values(by=['user_id','order_number_x','order_number_y'], ascending=False))\n",
    "\n",
    "df_consecutive_orders3 = df_consecutive_orders3[df_consecutive_orders3['order_number_x'] - \\\n",
    "                                                  df_consecutive_orders3['order_number_y'] == 1]\n",
    "\n",
    "df_consecutive_orders3['ones'] = 1\n",
    "\n",
    "df_consecutive_orders3 = df_consecutive_orders3.groupby(['product_id', 'user_id'])\\\n",
    "                                                        ['ones'].sum().reset_index()\n",
    "\n",
    "    \n",
    "df_consecutive_orders3 = df_consecutive_orders3.rename(columns={'ones':'consecutive_reorders'})"
   ]
  },
  {
   "cell_type": "code",
   "execution_count": 19,
   "metadata": {},
   "outputs": [],
   "source": [
    "# Adding feature for consecutive orders\n",
    "df_consecutive_orders4 = df_consecutive_orders.merge(df_users4, on=['user_id'])\n",
    "\n",
    "df_consecutive_orders4 = (df_consecutive_orders4.merge(df_consecutive_orders4, on=['user_id','product_id'])\\\n",
    "                           .sort_values(by=['user_id','order_number_x','order_number_y'], ascending=False))\n",
    "\n",
    "df_consecutive_orders4 = df_consecutive_orders4[df_consecutive_orders4['order_number_x'] - \\\n",
    "                                                  df_consecutive_orders4['order_number_y'] == 1]\n",
    "\n",
    "df_consecutive_orders4['ones'] = 1\n",
    "\n",
    "df_consecutive_orders4 = df_consecutive_orders4.groupby(['product_id', 'user_id'])\\\n",
    "                                                        ['ones'].sum().reset_index()\n",
    "\n",
    "    \n",
    "df_consecutive_orders4 = df_consecutive_orders4.rename(columns={'ones':'consecutive_reorders'})"
   ]
  },
  {
   "cell_type": "code",
   "execution_count": 20,
   "metadata": {},
   "outputs": [],
   "source": [
    "# Adding feature for consecutive orders\n",
    "df_consecutive_orders5 = df_consecutive_orders.merge(df_users5, on=['user_id'])\n",
    "\n",
    "df_consecutive_orders5 = (df_consecutive_orders5.merge(df_consecutive_orders5, on=['user_id','product_id'])\\\n",
    "                           .sort_values(by=['user_id','order_number_x','order_number_y'], ascending=False))\n",
    "\n",
    "df_consecutive_orders5 = df_consecutive_orders5[df_consecutive_orders5['order_number_x'] - \\\n",
    "                                                  df_consecutive_orders5['order_number_y'] == 1]\n",
    "\n",
    "df_consecutive_orders5['ones'] = 1\n",
    "\n",
    "df_consecutive_orders5 = df_consecutive_orders5.groupby(['product_id', 'user_id'])\\\n",
    "                                                        ['ones'].sum().reset_index()\n",
    "\n",
    "    \n",
    "df_consecutive_orders5 = df_consecutive_orders5.rename(columns={'ones':'consecutive_reorders'})"
   ]
  },
  {
   "cell_type": "code",
   "execution_count": 21,
   "metadata": {},
   "outputs": [],
   "source": [
    "# Adding feature for consecutive orders\n",
    "df_consecutive_orders6 = df_consecutive_orders.merge(df_users6, on=['user_id'])\n",
    "\n",
    "df_consecutive_orders6 = (df_consecutive_orders6.merge(df_consecutive_orders6, on=['user_id','product_id'])\\\n",
    "                           .sort_values(by=['user_id','order_number_x','order_number_y'], ascending=False))\n",
    "\n",
    "df_consecutive_orders6 = df_consecutive_orders6[df_consecutive_orders6['order_number_x'] - \\\n",
    "                                                  df_consecutive_orders6['order_number_y'] == 1]\n",
    "\n",
    "df_consecutive_orders6['ones'] = 1\n",
    "\n",
    "df_consecutive_orders6 = df_consecutive_orders6.groupby(['product_id', 'user_id'])\\\n",
    "                                                        ['ones'].sum().reset_index()\n",
    "\n",
    "    \n",
    "df_consecutive_orders6 = df_consecutive_orders6.rename(columns={'ones':'consecutive_reorders'})"
   ]
  },
  {
   "cell_type": "code",
   "execution_count": 22,
   "metadata": {},
   "outputs": [],
   "source": [
    "# Adding feature for consecutive orders\n",
    "df_consecutive_orders7 = df_consecutive_orders.merge(df_users7, on=['user_id'])\n",
    "\n",
    "df_consecutive_orders7 = (df_consecutive_orders7.merge(df_consecutive_orders7, on=['user_id','product_id'])\\\n",
    "                           .sort_values(by=['user_id','order_number_x','order_number_y'], ascending=False))\n",
    "\n",
    "df_consecutive_orders7 = df_consecutive_orders7[df_consecutive_orders7['order_number_x'] - \\\n",
    "                                                  df_consecutive_orders7['order_number_y'] == 1]\n",
    "\n",
    "df_consecutive_orders7['ones'] = 1\n",
    "\n",
    "df_consecutive_orders7 = df_consecutive_orders7.groupby(['product_id', 'user_id'])\\\n",
    "                                                        ['ones'].sum().reset_index()\n",
    "\n",
    "    \n",
    "df_consecutive_orders7 = df_consecutive_orders7.rename(columns={'ones':'consecutive_reorders'})"
   ]
  },
  {
   "cell_type": "code",
   "execution_count": 23,
   "metadata": {},
   "outputs": [],
   "source": [
    "df_consecutive_orders_list = [df_consecutive_orders1, df_consecutive_orders2, df_consecutive_orders3, \\\n",
    "                             df_consecutive_orders4, df_consecutive_orders5, df_consecutive_orders6, \\\n",
    "                             df_consecutive_orders7]"
   ]
  },
  {
   "cell_type": "code",
   "execution_count": 24,
   "metadata": {},
   "outputs": [],
   "source": [
    "df_consecutive_orders = pd.concat(df_consecutive_orders_list)"
   ]
  },
  {
   "cell_type": "code",
   "execution_count": 25,
   "metadata": {},
   "outputs": [],
   "source": [
    "df_order_products_prior = df_order_products_prior.merge(df_consecutive_orders, on=['product_id','user_id'], how='left')"
   ]
  },
  {
   "cell_type": "code",
   "execution_count": 26,
   "metadata": {},
   "outputs": [],
   "source": [
    "user_prod_features2 = ['user_product_consecutive_reorders','user_product_total_reorders']\n",
    "\n",
    "df_user_prod_features2 = (df_order_products_prior.groupby(['product_id','user_id'],as_index=False) \\\n",
    "                                                .agg(OrderedDict(\n",
    "                                                     [('consecutive_reorders','sum'),\n",
    "                                                      ('reordered','sum')])))\n",
    "\n",
    "df_user_prod_features2.columns = ['product_id','user_id'] + user_prod_features2"
   ]
  },
  {
   "cell_type": "code",
   "execution_count": 27,
   "metadata": {},
   "outputs": [],
   "source": [
    "df_X = df_X.merge(df_user_prod_features2,on=['user_id','product_id'])\n",
    "\n",
    "df_X = df_X.fillna(-1)\n",
    "\n",
    "df_X['user_product_percent_consecutive_reorders'] = df_X['user_product_consecutive_reorders'] / \\\n",
    "                                                    df_X['user_product_total_reorders']\n",
    "    \n",
    "df_X = df_X.fillna(-1)"
   ]
  },
  {
   "cell_type": "code",
   "execution_count": 28,
   "metadata": {},
   "outputs": [],
   "source": [
    "# Save file out to csv\n",
    "df_X.to_csv('instacart_df_X.csv', index=False)"
   ]
  },
  {
   "cell_type": "code",
   "execution_count": 7,
   "metadata": {},
   "outputs": [],
   "source": [
    "# Adding feature for number of days since prior time product was ordered\n",
    "\n",
    "df_days_cumulative = df_order_products_prior[['user_id','order_number','days_since_prior_order']]\\\n",
    "                            .sort_values(by=['user_id','order_number'], ascending=False)\n",
    "    \n",
    "df_days_cumulative = df_days_cumulative.drop_duplicates()\n",
    "\n",
    "df_days_cumulative['cumulative_days'] = df_days_cumulative.groupby('user_id')['days_since_prior_order'].cumsum()"
   ]
  },
  {
   "cell_type": "code",
   "execution_count": 8,
   "metadata": {},
   "outputs": [],
   "source": [
    "df_order_products_prior = df_order_products_prior.merge(df_days_cumulative, on=['user_id','order_number'], how='left')"
   ]
  },
  {
   "cell_type": "code",
   "execution_count": 9,
   "metadata": {},
   "outputs": [],
   "source": [
    "user_prod_features2 = ['user_product_days_since_most_recent']\n",
    "\n",
    "df_user_prod_features2 = (df_order_products_prior.groupby(['product_id','user_id'],as_index=False) \\\n",
    "                                                .agg(OrderedDict(\n",
    "                                                     [('cumulative_days','min')])))\n",
    "\n",
    "df_user_prod_features2.columns = ['product_id','user_id'] + user_prod_features2"
   ]
  },
  {
   "cell_type": "code",
   "execution_count": 10,
   "metadata": {},
   "outputs": [],
   "source": [
    "df_X = df_X.merge(df_user_prod_features2,on=['user_id','product_id'])\n",
    "\n",
    "df_X = df_X.fillna(-1)"
   ]
  },
  {
   "cell_type": "markdown",
   "metadata": {},
   "source": [
    "# Adding features for 3 most recent orders"
   ]
  },
  {
   "cell_type": "code",
   "execution_count": 36,
   "metadata": {},
   "outputs": [],
   "source": [
    "df_X = pd.read_csv('instacart_df_X.csv')"
   ]
  },
  {
   "cell_type": "code",
   "execution_count": 29,
   "metadata": {},
   "outputs": [],
   "source": [
    "df_max_order_user = (df_order_products_prior.groupby(['user_id'],as_index=False)\n",
    "                                           .agg(OrderedDict(\n",
    "                                                   [('order_number','max')])))"
   ]
  },
  {
   "cell_type": "code",
   "execution_count": 30,
   "metadata": {},
   "outputs": [],
   "source": [
    "df_orders_user = (df_order_products_prior.groupby(['user_id','order_number'],as_index=False)\n",
    "                                           .agg(OrderedDict(\n",
    "                                                   [('product_id','count')])))\n",
    "\n",
    "df_orders_user = df_orders_user.drop(columns='product_id')\n",
    "\n",
    "df_orders_user = df_orders_user.merge(df_max_order_user, on='user_id')"
   ]
  },
  {
   "cell_type": "code",
   "execution_count": 31,
   "metadata": {},
   "outputs": [],
   "source": [
    "df_recent_orders = df_orders_user[df_orders_user['order_number_y'] - df_orders_user['order_number_x'] < 3]\n",
    "df_recent_orders = df_recent_orders.drop(columns='order_number_y')\n",
    "df_recent_orders = df_recent_orders.rename(columns={'order_number_x':'order_number'})"
   ]
  },
  {
   "cell_type": "code",
   "execution_count": 32,
   "metadata": {},
   "outputs": [],
   "source": [
    "df_order_products_prior_recent = df_order_products_prior.merge(df_recent_orders, on=['user_id','order_number'])"
   ]
  },
  {
   "cell_type": "code",
   "execution_count": 37,
   "metadata": {},
   "outputs": [],
   "source": [
    "user_features = ['user_total_orders_recent']\n",
    "\n",
    "df_user_features = (df_order_products_prior_recent.groupby(['user_id'],as_index=False)\n",
    "                                           .agg(OrderedDict(\n",
    "                                                   [('order_id','nunique')])))\n",
    "\n",
    "df_user_features.columns = ['user_id'] + user_features\n",
    "\n",
    "df_X = df_X.merge(df_user_features, on='user_id', how='left')\n",
    "\n",
    "df_X = df_X.fillna(-1)"
   ]
  },
  {
   "cell_type": "code",
   "execution_count": 38,
   "metadata": {},
   "outputs": [],
   "source": [
    "user_prod_features = ['user_product_total_orders_recent','user_product_avg_add_to_cart_order_recent',\\\n",
    "                      'user_product_avg_order_dow_recent',\\\n",
    "                      'user_product_avg_order_hour_of_day_recent','user_product_avg_days_since_prior_order_recent']\n",
    "\n",
    "df_user_prod_features = (df_order_products_prior_recent.groupby(['product_id','user_id'],as_index=False) \\\n",
    "                                                .agg(OrderedDict(\n",
    "                                                     [('order_id','count'),\n",
    "                                                      ('add_to_cart_order','mean'),\n",
    "                                                      ('order_dow', 'mean'),\n",
    "                                                      ('order_hour_of_day', 'mean'),\n",
    "                                                      ('days_since_prior_order', 'mean')])))\n",
    "\n",
    "df_user_prod_features.columns = ['product_id','user_id'] + user_prod_features \n",
    "\n",
    "df_X = df_X.merge(df_user_prod_features,on=['user_id','product_id'], how='left')\n",
    "\n",
    "df_X['user_product_order_freq_recent'] = df_X['user_product_total_orders_recent'] / df_X['user_total_orders_recent'] \n",
    "\n",
    "df_X = df_X.fillna(-1)"
   ]
  },
  {
   "cell_type": "code",
   "execution_count": 39,
   "metadata": {},
   "outputs": [],
   "source": [
    "# Save file out to csv\n",
    "df_X.to_csv('instacart_df_X_final.csv', index=False)"
   ]
  },
  {
   "cell_type": "code",
   "execution_count": 11,
   "metadata": {},
   "outputs": [],
   "source": [
    "df_X.to_csv('instacart_df_X_final2.csv', index=False)"
   ]
  },
  {
   "cell_type": "code",
   "execution_count": null,
   "metadata": {},
   "outputs": [],
   "source": []
  }
 ],
 "metadata": {
  "kernelspec": {
   "display_name": "Python 3",
   "language": "python",
   "name": "python3"
  },
  "language_info": {
   "codemirror_mode": {
    "name": "ipython",
    "version": 3
   },
   "file_extension": ".py",
   "mimetype": "text/x-python",
   "name": "python",
   "nbconvert_exporter": "python",
   "pygments_lexer": "ipython3",
   "version": "3.6.5"
  }
 },
 "nbformat": 4,
 "nbformat_minor": 2
}
