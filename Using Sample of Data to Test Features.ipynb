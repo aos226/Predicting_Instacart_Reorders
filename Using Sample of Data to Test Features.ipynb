{
 "cells": [
  {
   "cell_type": "code",
   "execution_count": 1,
   "metadata": {},
   "outputs": [],
   "source": [
    "import numpy as np\n",
    "from sqlalchemy import create_engine\n",
    "import pandas as pd\n",
    "import pickle\n",
    "from sklearn.model_selection import train_test_split\n",
    "from sklearn.preprocessing import StandardScaler\n",
    "from sklearn.linear_model import LogisticRegression\n",
    "from sklearn.metrics import f1_score\n",
    "from sklearn.ensemble import RandomForestClassifier\n",
    "from collections import OrderedDict\n",
    "import imblearn.over_sampling\n",
    "from sklearn.metrics import roc_auc_score\n",
    "import xgboost as xgb\n",
    "\n",
    "import matplotlib.pyplot as plt\n",
    "%matplotlib inline\n",
    "import seaborn as sns\n",
    "sns.set()"
   ]
  },
  {
   "cell_type": "code",
   "execution_count": 12,
   "metadata": {},
   "outputs": [
    {
     "name": "stderr",
     "output_type": "stream",
     "text": [
      "/Users/andersolson-swanson/anaconda3/lib/python3.6/site-packages/psycopg2/__init__.py:144: UserWarning: The psycopg2 wheel package will be renamed from release 2.8; in order to keep installing from binary please use \"pip install psycopg2-binary\" instead. For details see: <http://initd.org/psycopg/docs/install.html#binary-install-from-pypi>.\n",
      "  \"\"\")\n"
     ]
    }
   ],
   "source": [
    "cnx = create_engine('postgresql://postgres@52.90.185.96:5432/instacart')"
   ]
  },
  {
   "cell_type": "code",
   "execution_count": 13,
   "metadata": {},
   "outputs": [],
   "source": [
    "\n",
    "df_orders = pd.read_sql_query('''SELECT * FROM orders_sample''',cnx)\n",
    "df_order_products_prior = pd.read_sql_query('''SELECT * FROM order_products_prior_sample''',cnx)\n",
    "df_order_products_train = pd.read_sql_query('''SELECT * FROM order_products_train_sample''',cnx)\n",
    "df_products = pd.read_sql_query('''SELECT * FROM products_full''',cnx)"
   ]
  },
  {
   "cell_type": "code",
   "execution_count": 6,
   "metadata": {},
   "outputs": [],
   "source": [
    "# Pickling these files for re-import when needed\n",
    "\n",
    "\n",
    "with open('orders_sample.pkl', 'wb') as picklefile:\n",
    "    pickle.dump(df_orders, picklefile)\n",
    "with open('order_products_prior_sample.pkl', 'wb') as picklefile:\n",
    "    pickle.dump(df_order_products_prior, picklefile)\n",
    "with open('order_products_train_sample.pkl', 'wb') as picklefile:\n",
    "    pickle.dump(df_order_products_train, picklefile)\n",
    "with open('products.pkl', 'wb') as picklefile:\n",
    "    pickle.dump(df_products, picklefile)"
   ]
  },
  {
   "cell_type": "code",
   "execution_count": 11,
   "metadata": {},
   "outputs": [
    {
     "ename": "EOFError",
     "evalue": "Ran out of input",
     "output_type": "error",
     "traceback": [
      "\u001b[0;31m---------------------------------------------------------------------------\u001b[0m",
      "\u001b[0;31mEOFError\u001b[0m                                  Traceback (most recent call last)",
      "\u001b[0;32m<ipython-input-11-2f0208b929a3>\u001b[0m in \u001b[0;36m<module>\u001b[0;34m()\u001b[0m\n\u001b[1;32m      1\u001b[0m \u001b[0;32mwith\u001b[0m \u001b[0mopen\u001b[0m\u001b[0;34m(\u001b[0m\u001b[0;34m'orders_sample.pkl'\u001b[0m\u001b[0;34m,\u001b[0m \u001b[0;34m'rb'\u001b[0m\u001b[0;34m)\u001b[0m \u001b[0;32mas\u001b[0m \u001b[0mpicklefile\u001b[0m\u001b[0;34m:\u001b[0m\u001b[0;34m\u001b[0m\u001b[0m\n\u001b[0;32m----> 2\u001b[0;31m     \u001b[0mdf_orders\u001b[0m \u001b[0;34m=\u001b[0m \u001b[0mpickle\u001b[0m\u001b[0;34m.\u001b[0m\u001b[0mload\u001b[0m\u001b[0;34m(\u001b[0m\u001b[0mpicklefile\u001b[0m\u001b[0;34m)\u001b[0m\u001b[0;34m\u001b[0m\u001b[0m\n\u001b[0m\u001b[1;32m      3\u001b[0m \u001b[0;32mwith\u001b[0m \u001b[0mopen\u001b[0m\u001b[0;34m(\u001b[0m\u001b[0;34m'order_products_prior_sample.pkl'\u001b[0m\u001b[0;34m,\u001b[0m \u001b[0;34m'rb'\u001b[0m\u001b[0;34m)\u001b[0m \u001b[0;32mas\u001b[0m \u001b[0mpicklefile\u001b[0m\u001b[0;34m:\u001b[0m\u001b[0;34m\u001b[0m\u001b[0m\n\u001b[1;32m      4\u001b[0m     \u001b[0mdf_order_products_prior\u001b[0m \u001b[0;34m=\u001b[0m \u001b[0mpickle\u001b[0m\u001b[0;34m.\u001b[0m\u001b[0mload\u001b[0m\u001b[0;34m(\u001b[0m\u001b[0mpicklefile\u001b[0m\u001b[0;34m)\u001b[0m\u001b[0;34m\u001b[0m\u001b[0m\n\u001b[1;32m      5\u001b[0m \u001b[0;32mwith\u001b[0m \u001b[0mopen\u001b[0m\u001b[0;34m(\u001b[0m\u001b[0;34m'order_products_train_sample.pkl'\u001b[0m\u001b[0;34m,\u001b[0m \u001b[0;34m'rb'\u001b[0m\u001b[0;34m)\u001b[0m \u001b[0;32mas\u001b[0m \u001b[0mpicklefile\u001b[0m\u001b[0;34m:\u001b[0m\u001b[0;34m\u001b[0m\u001b[0m\n",
      "\u001b[0;31mEOFError\u001b[0m: Ran out of input"
     ]
    }
   ],
   "source": [
    "with open('orders_sample.pkl', 'rb') as picklefile:\n",
    "    df_orders = pickle.load(picklefile)\n",
    "with open('order_products_prior_sample.pkl', 'rb') as picklefile:\n",
    "    df_order_products_prior = pickle.load(picklefile)\n",
    "with open('order_products_train_sample.pkl', 'rb') as picklefile:\n",
    "    df_order_products_train = pickle.load(picklefile)\n",
    "with open('products.pkl', 'rb') as picklefile:\n",
    "    df_products = pickle.load(picklefile)"
   ]
  },
  {
   "cell_type": "code",
   "execution_count": 14,
   "metadata": {},
   "outputs": [],
   "source": [
    "# Combining all tables together\n",
    "\n",
    "df_order_products_train = df_order_products_train.merge(df_orders.drop('eval_set', axis=1), on='order_id')\n",
    "df_order_products_train = df_order_products_train.merge(df_products, on='product_id')\n",
    "df_order_products_prior = df_order_products_prior.merge(df_orders.drop('eval_set', axis=1), on='order_id')\n",
    "df_order_products_prior = df_order_products_prior.merge(df_products, on='product_id')"
   ]
  },
  {
   "cell_type": "code",
   "execution_count": 34,
   "metadata": {},
   "outputs": [
    {
     "ename": "KeyError",
     "evalue": "'user_id'",
     "output_type": "error",
     "traceback": [
      "\u001b[0;31m---------------------------------------------------------------------------\u001b[0m",
      "\u001b[0;31mKeyError\u001b[0m                                  Traceback (most recent call last)",
      "\u001b[0;32m<ipython-input-34-04500ce905d6>\u001b[0m in \u001b[0;36m<module>\u001b[0;34m()\u001b[0m\n\u001b[0;32m----> 1\u001b[0;31m df_user_product = (df_order_products_prior.groupby(['product_id','user_id'],as_index=False) \n\u001b[0m\u001b[1;32m      2\u001b[0m                                           \u001b[0;34m.\u001b[0m\u001b[0magg\u001b[0m\u001b[0;34m(\u001b[0m\u001b[0;34m{\u001b[0m\u001b[0;34m'order_id'\u001b[0m\u001b[0;34m:\u001b[0m\u001b[0;34m'count'\u001b[0m\u001b[0;34m}\u001b[0m\u001b[0;34m)\u001b[0m\u001b[0;34m\u001b[0m\u001b[0m\n\u001b[1;32m      3\u001b[0m                                           .rename(columns={'order_id':'user_product_total_orders'}))\n\u001b[1;32m      4\u001b[0m \u001b[0;34m\u001b[0m\u001b[0m\n\u001b[1;32m      5\u001b[0m \u001b[0mtrain_ids\u001b[0m \u001b[0;34m=\u001b[0m \u001b[0mdf_order_products_train\u001b[0m\u001b[0;34m[\u001b[0m\u001b[0;34m'user_id'\u001b[0m\u001b[0;34m]\u001b[0m\u001b[0;34m.\u001b[0m\u001b[0munique\u001b[0m\u001b[0;34m(\u001b[0m\u001b[0;34m)\u001b[0m\u001b[0;34m\u001b[0m\u001b[0m\n",
      "\u001b[0;32m~/anaconda3/lib/python3.6/site-packages/pandas/core/generic.py\u001b[0m in \u001b[0;36mgroupby\u001b[0;34m(self, by, axis, level, as_index, sort, group_keys, squeeze, **kwargs)\u001b[0m\n\u001b[1;32m   5160\u001b[0m         return groupby(self, by=by, axis=axis, level=level, as_index=as_index,\n\u001b[1;32m   5161\u001b[0m                        \u001b[0msort\u001b[0m\u001b[0;34m=\u001b[0m\u001b[0msort\u001b[0m\u001b[0;34m,\u001b[0m \u001b[0mgroup_keys\u001b[0m\u001b[0;34m=\u001b[0m\u001b[0mgroup_keys\u001b[0m\u001b[0;34m,\u001b[0m \u001b[0msqueeze\u001b[0m\u001b[0;34m=\u001b[0m\u001b[0msqueeze\u001b[0m\u001b[0;34m,\u001b[0m\u001b[0;34m\u001b[0m\u001b[0m\n\u001b[0;32m-> 5162\u001b[0;31m                        **kwargs)\n\u001b[0m\u001b[1;32m   5163\u001b[0m \u001b[0;34m\u001b[0m\u001b[0m\n\u001b[1;32m   5164\u001b[0m     def asfreq(self, freq, method=None, how=None, normalize=False,\n",
      "\u001b[0;32m~/anaconda3/lib/python3.6/site-packages/pandas/core/groupby.py\u001b[0m in \u001b[0;36mgroupby\u001b[0;34m(obj, by, **kwds)\u001b[0m\n\u001b[1;32m   1846\u001b[0m         \u001b[0;32mraise\u001b[0m \u001b[0mTypeError\u001b[0m\u001b[0;34m(\u001b[0m\u001b[0;34m'invalid type: %s'\u001b[0m \u001b[0;34m%\u001b[0m \u001b[0mtype\u001b[0m\u001b[0;34m(\u001b[0m\u001b[0mobj\u001b[0m\u001b[0;34m)\u001b[0m\u001b[0;34m)\u001b[0m\u001b[0;34m\u001b[0m\u001b[0m\n\u001b[1;32m   1847\u001b[0m \u001b[0;34m\u001b[0m\u001b[0m\n\u001b[0;32m-> 1848\u001b[0;31m     \u001b[0;32mreturn\u001b[0m \u001b[0mklass\u001b[0m\u001b[0;34m(\u001b[0m\u001b[0mobj\u001b[0m\u001b[0;34m,\u001b[0m \u001b[0mby\u001b[0m\u001b[0;34m,\u001b[0m \u001b[0;34m**\u001b[0m\u001b[0mkwds\u001b[0m\u001b[0;34m)\u001b[0m\u001b[0;34m\u001b[0m\u001b[0m\n\u001b[0m\u001b[1;32m   1849\u001b[0m \u001b[0;34m\u001b[0m\u001b[0m\n\u001b[1;32m   1850\u001b[0m \u001b[0;34m\u001b[0m\u001b[0m\n",
      "\u001b[0;32m~/anaconda3/lib/python3.6/site-packages/pandas/core/groupby.py\u001b[0m in \u001b[0;36m__init__\u001b[0;34m(self, obj, keys, axis, level, grouper, exclusions, selection, as_index, sort, group_keys, squeeze, **kwargs)\u001b[0m\n\u001b[1;32m    514\u001b[0m                                                     \u001b[0mlevel\u001b[0m\u001b[0;34m=\u001b[0m\u001b[0mlevel\u001b[0m\u001b[0;34m,\u001b[0m\u001b[0;34m\u001b[0m\u001b[0m\n\u001b[1;32m    515\u001b[0m                                                     \u001b[0msort\u001b[0m\u001b[0;34m=\u001b[0m\u001b[0msort\u001b[0m\u001b[0;34m,\u001b[0m\u001b[0;34m\u001b[0m\u001b[0m\n\u001b[0;32m--> 516\u001b[0;31m                                                     mutated=self.mutated)\n\u001b[0m\u001b[1;32m    517\u001b[0m \u001b[0;34m\u001b[0m\u001b[0m\n\u001b[1;32m    518\u001b[0m         \u001b[0mself\u001b[0m\u001b[0;34m.\u001b[0m\u001b[0mobj\u001b[0m \u001b[0;34m=\u001b[0m \u001b[0mobj\u001b[0m\u001b[0;34m\u001b[0m\u001b[0m\n",
      "\u001b[0;32m~/anaconda3/lib/python3.6/site-packages/pandas/core/groupby.py\u001b[0m in \u001b[0;36m_get_grouper\u001b[0;34m(obj, key, axis, level, sort, mutated, validate)\u001b[0m\n\u001b[1;32m   2932\u001b[0m                 \u001b[0min_axis\u001b[0m\u001b[0;34m,\u001b[0m \u001b[0mname\u001b[0m\u001b[0;34m,\u001b[0m \u001b[0mlevel\u001b[0m\u001b[0;34m,\u001b[0m \u001b[0mgpr\u001b[0m \u001b[0;34m=\u001b[0m \u001b[0;32mFalse\u001b[0m\u001b[0;34m,\u001b[0m \u001b[0;32mNone\u001b[0m\u001b[0;34m,\u001b[0m \u001b[0mgpr\u001b[0m\u001b[0;34m,\u001b[0m \u001b[0;32mNone\u001b[0m\u001b[0;34m\u001b[0m\u001b[0m\n\u001b[1;32m   2933\u001b[0m             \u001b[0;32melse\u001b[0m\u001b[0;34m:\u001b[0m\u001b[0;34m\u001b[0m\u001b[0m\n\u001b[0;32m-> 2934\u001b[0;31m                 \u001b[0;32mraise\u001b[0m \u001b[0mKeyError\u001b[0m\u001b[0;34m(\u001b[0m\u001b[0mgpr\u001b[0m\u001b[0;34m)\u001b[0m\u001b[0;34m\u001b[0m\u001b[0m\n\u001b[0m\u001b[1;32m   2935\u001b[0m         \u001b[0;32melif\u001b[0m \u001b[0misinstance\u001b[0m\u001b[0;34m(\u001b[0m\u001b[0mgpr\u001b[0m\u001b[0;34m,\u001b[0m \u001b[0mGrouper\u001b[0m\u001b[0;34m)\u001b[0m \u001b[0;32mand\u001b[0m \u001b[0mgpr\u001b[0m\u001b[0;34m.\u001b[0m\u001b[0mkey\u001b[0m \u001b[0;32mis\u001b[0m \u001b[0;32mnot\u001b[0m \u001b[0;32mNone\u001b[0m\u001b[0;34m:\u001b[0m\u001b[0;34m\u001b[0m\u001b[0m\n\u001b[1;32m   2936\u001b[0m             \u001b[0;31m# Add key to exclusions\u001b[0m\u001b[0;34m\u001b[0m\u001b[0;34m\u001b[0m\u001b[0m\n",
      "\u001b[0;31mKeyError\u001b[0m: 'user_id'"
     ]
    }
   ],
   "source": [
    "df_user_product = (df_order_products_prior.groupby(['product_id','user_id'],as_index=False) \n",
    "                                          .agg({'order_id':'count'}) \n",
    "                                          .rename(columns={'order_id':'user_product_total_orders'}))\n",
    "\n",
    "train_ids = df_order_products_train['user_id'].unique() \n",
    "df_X = df_user_product[df_user_product['user_id'].isin(train_ids)]"
   ]
  },
  {
   "cell_type": "code",
   "execution_count": 13,
   "metadata": {},
   "outputs": [],
   "source": [
    "train_carts = (df_order_products_train.groupby('user_id',as_index=False)\n",
    "                                      .agg({'product_id':(lambda x: set(x))})\n",
    "                                      .rename(columns={'product_id':'latest_cart'}))\n",
    "\n",
    "df_X = df_X.merge(train_carts, on='user_id')\n",
    "df_X['in_cart'] = (df_X.apply(lambda row: row['product_id'] in row['latest_cart'], axis=1).astype(int))"
   ]
  },
  {
   "cell_type": "code",
   "execution_count": 10,
   "metadata": {},
   "outputs": [
    {
     "data": {
      "text/plain": [
       "(3171959, 15)"
      ]
     },
     "execution_count": 10,
     "metadata": {},
     "output_type": "execute_result"
    }
   ],
   "source": [
    "df_order_products_prior.shape"
   ]
  },
  {
   "cell_type": "code",
   "execution_count": 6,
   "metadata": {},
   "outputs": [
    {
     "ename": "NameError",
     "evalue": "name 'df_orders' is not defined",
     "output_type": "error",
     "traceback": [
      "\u001b[0;31m---------------------------------------------------------------------------\u001b[0m",
      "\u001b[0;31mNameError\u001b[0m                                 Traceback (most recent call last)",
      "\u001b[0;32m<ipython-input-6-849ee840f576>\u001b[0m in \u001b[0;36m<module>\u001b[0;34m()\u001b[0m\n\u001b[1;32m      1\u001b[0m \u001b[0;32mwith\u001b[0m \u001b[0mopen\u001b[0m\u001b[0;34m(\u001b[0m\u001b[0;34m'orders_sample.pkl'\u001b[0m\u001b[0;34m,\u001b[0m \u001b[0;34m'wb'\u001b[0m\u001b[0;34m)\u001b[0m \u001b[0;32mas\u001b[0m \u001b[0mpicklefile\u001b[0m\u001b[0;34m:\u001b[0m\u001b[0;34m\u001b[0m\u001b[0m\n\u001b[0;32m----> 2\u001b[0;31m     \u001b[0mpickle\u001b[0m\u001b[0;34m.\u001b[0m\u001b[0mdump\u001b[0m\u001b[0;34m(\u001b[0m\u001b[0mdf_orders\u001b[0m\u001b[0;34m,\u001b[0m \u001b[0mpicklefile\u001b[0m\u001b[0;34m)\u001b[0m\u001b[0;34m\u001b[0m\u001b[0m\n\u001b[0m\u001b[1;32m      3\u001b[0m \u001b[0;32mwith\u001b[0m \u001b[0mopen\u001b[0m\u001b[0;34m(\u001b[0m\u001b[0;34m'order_products_prior_sample.pkl'\u001b[0m\u001b[0;34m,\u001b[0m \u001b[0;34m'wb'\u001b[0m\u001b[0;34m)\u001b[0m \u001b[0;32mas\u001b[0m \u001b[0mpicklefile\u001b[0m\u001b[0;34m:\u001b[0m\u001b[0;34m\u001b[0m\u001b[0m\n\u001b[1;32m      4\u001b[0m     \u001b[0mpickle\u001b[0m\u001b[0;34m.\u001b[0m\u001b[0mdump\u001b[0m\u001b[0;34m(\u001b[0m\u001b[0mdf_order_products_prior\u001b[0m\u001b[0;34m,\u001b[0m \u001b[0mpicklefile\u001b[0m\u001b[0;34m)\u001b[0m\u001b[0;34m\u001b[0m\u001b[0m\n\u001b[1;32m      5\u001b[0m \u001b[0;32mwith\u001b[0m \u001b[0mopen\u001b[0m\u001b[0;34m(\u001b[0m\u001b[0;34m'order_products_train_sample.pkl'\u001b[0m\u001b[0;34m,\u001b[0m \u001b[0;34m'wb'\u001b[0m\u001b[0;34m)\u001b[0m \u001b[0;32mas\u001b[0m \u001b[0mpicklefile\u001b[0m\u001b[0;34m:\u001b[0m\u001b[0;34m\u001b[0m\u001b[0m\n",
      "\u001b[0;31mNameError\u001b[0m: name 'df_orders' is not defined"
     ]
    }
   ],
   "source": [
    "with open('orders_sample.pkl', 'wb') as picklefile:\n",
    "    pickle.dump(df_orders, picklefile)\n",
    "with open('order_products_prior_sample.pkl', 'wb') as picklefile:\n",
    "    pickle.dump(df_order_products_prior, picklefile)\n",
    "with open('order_products_train_sample.pkl', 'wb') as picklefile:\n",
    "    pickle.dump(df_order_products_train, picklefile)\n",
    "with open('products.pkl', 'wb') as picklefile:\n",
    "    pickle.dump(df_products, picklefile)"
   ]
  },
  {
   "cell_type": "markdown",
   "metadata": {},
   "source": [
    "# Baselining"
   ]
  },
  {
   "cell_type": "code",
   "execution_count": 2,
   "metadata": {},
   "outputs": [],
   "source": [
    "def get_user_split_data(df, test_size=.2, seed=42):\n",
    "\n",
    "    rs = np.random.RandomState(seed)\n",
    "    \n",
    "    total_users = df['user_id'].unique() \n",
    "    test_users = rs.choice(total_users, \n",
    "                           size=int(total_users.shape[0] * test_size), \n",
    "                           replace=False)\n",
    "\n",
    "    df_tr = df[~df['user_id'].isin(test_users)]\n",
    "    df_te = df[df['user_id'].isin(test_users)] \n",
    "\n",
    "    y_tr, y_te = df_tr['in_cart'], df_te['in_cart']\n",
    "    X_tr = df_tr.drop(['product_id','user_id','latest_cart','in_cart'],axis=1) \n",
    "    X_te = df_te.drop(['product_id','user_id','latest_cart','in_cart'],axis=1)\n",
    "\n",
    "    return X_tr, X_te, y_tr, y_te, df_tr"
   ]
  },
  {
   "cell_type": "code",
   "execution_count": 15,
   "metadata": {},
   "outputs": [],
   "source": [
    "\n",
    "\n",
    "X_tr, X_h, y_tr, y_h, df_tr = get_user_split_data(df_X)\n",
    "X_tr, X_te, y_tr, y_te, _ = get_user_split_data(df_tr)\n",
    "\n",
    "scale = StandardScaler()\n",
    "X_tr_scaled = scale.fit_transform(X_tr)\n",
    "X_te_scaled = scale.transform(X_te)"
   ]
  },
  {
   "cell_type": "code",
   "execution_count": 16,
   "metadata": {},
   "outputs": [
    {
     "data": {
      "text/plain": [
       "0.08381683477639916"
      ]
     },
     "execution_count": 16,
     "metadata": {},
     "output_type": "execute_result"
    }
   ],
   "source": [
    "\n",
    "\n",
    "lr = LogisticRegression()\n",
    "lr.fit(X_tr_scaled, y_tr)\n",
    "f1_score(lr.predict(X_te_scaled), y_te)"
   ]
  },
  {
   "cell_type": "code",
   "execution_count": 17,
   "metadata": {},
   "outputs": [
    {
     "data": {
      "text/plain": [
       "0.03596205578366133"
      ]
     },
     "execution_count": 17,
     "metadata": {},
     "output_type": "execute_result"
    }
   ],
   "source": [
    "\n",
    "\n",
    "rf = RandomForestClassifier(n_estimators=100, random_state=42)\n",
    "rf.fit(X_tr, y_tr)\n",
    "f1_score(rf.predict(X_te), y_te)"
   ]
  },
  {
   "cell_type": "markdown",
   "metadata": {},
   "source": [
    "# Initial Product Features"
   ]
  },
  {
   "cell_type": "code",
   "execution_count": 19,
   "metadata": {},
   "outputs": [],
   "source": [
    "\n",
    "\n",
    "prod_features = ['product_total_orders','product_avg_add_to_cart_order','product_avg_order_number','product_avg_dow',\\\n",
    "                'product_avg_hour_of_day','product_total_times_reordered','product_reordered_rate']\n",
    "\n",
    "df_prod_features = (df_order_products_prior.groupby(['product_id'],as_index=False)\n",
    "                                           .agg(OrderedDict(\n",
    "                                                   [('order_id','nunique'),\n",
    "                                                    ('add_to_cart_order','mean'),\n",
    "                                                    ('order_number', 'mean'),\n",
    "                                                    ('order_dow', 'mean'),\n",
    "                                                    ('order_hour_of_day', 'mean'),\n",
    "                                                    ('reordered', ['sum','mean'])])))\n",
    "df_prod_features.columns = ['product_id'] + prod_features\n",
    "\n",
    "df_X = df_X.merge(df_prod_features, on='product_id')"
   ]
  },
  {
   "cell_type": "code",
   "execution_count": 19,
   "metadata": {},
   "outputs": [
    {
     "data": {
      "text/plain": [
       "0.08456112152870793"
      ]
     },
     "execution_count": 19,
     "metadata": {},
     "output_type": "execute_result"
    }
   ],
   "source": [
    "X_tr, X_h, y_tr, y_h, df_tr = get_user_split_data(df_X)\n",
    "X_tr, X_te, y_tr, y_te, _ = get_user_split_data(df_tr)\n",
    "\n",
    "scale = StandardScaler()\n",
    "X_tr_scaled = scale.fit_transform(X_tr)\n",
    "X_te_scaled = scale.transform(X_te)\n",
    "\n",
    "lr = LogisticRegression()\n",
    "lr.fit(X_tr_scaled, y_tr)\n",
    "f1_score(lr.predict(X_te_scaled), y_te)"
   ]
  },
  {
   "cell_type": "code",
   "execution_count": 20,
   "metadata": {},
   "outputs": [
    {
     "data": {
      "text/plain": [
       "0.11832289464235847"
      ]
     },
     "execution_count": 20,
     "metadata": {},
     "output_type": "execute_result"
    }
   ],
   "source": [
    "rf = RandomForestClassifier(n_estimators=100,random_state=42)\n",
    "rf.fit(X_tr, y_tr)\n",
    "f1_score(rf.predict(X_te), y_te)"
   ]
  },
  {
   "cell_type": "markdown",
   "metadata": {},
   "source": [
    "Both improve and random forest is starting to perform better"
   ]
  },
  {
   "cell_type": "markdown",
   "metadata": {},
   "source": [
    "# Initial User Features"
   ]
  },
  {
   "cell_type": "code",
   "execution_count": 21,
   "metadata": {},
   "outputs": [],
   "source": [
    "user_features = ['user_total_orders','user_avg_cartsize','user_total_products','user_avg_days_since_prior_order',\\\n",
    "                'user_avg_dow','user_avg_hour_of_day','user_total_reordered','user_reordered_percentage']\n",
    "\n",
    "df_user_features = (df_order_products_prior.groupby(['user_id'],as_index=False)\n",
    "                                           .agg(OrderedDict(\n",
    "                                                   [('order_id',['nunique', (lambda x: x.shape[0] / x.nunique())]),\n",
    "                                                    ('product_id','nunique'),\n",
    "                                                    ('days_since_prior_order','mean'),\n",
    "                                                    ('order_dow', 'mean'),\n",
    "                                                    ('order_hour_of_day', 'mean'),\n",
    "                                                    ('reordered', ['sum','mean'])])))\n",
    "\n",
    "df_user_features.columns = ['user_id'] + user_features\n",
    "df_user_features['user_avg_reordered'] = df_user_features['user_avg_cartsize'] * df_user_features['user_reordered_percentage']\n",
    "\n",
    "df_X = df_X.merge(df_user_features, on='user_id')"
   ]
  },
  {
   "cell_type": "code",
   "execution_count": 22,
   "metadata": {},
   "outputs": [
    {
     "data": {
      "text/plain": [
       "0.12624555931028505"
      ]
     },
     "execution_count": 22,
     "metadata": {},
     "output_type": "execute_result"
    }
   ],
   "source": [
    "X_tr, X_h, y_tr, y_h, df_tr = get_user_split_data(df_X)\n",
    "X_tr, X_te, y_tr, y_te, _ = get_user_split_data(df_tr)\n",
    "\n",
    "scale = StandardScaler()\n",
    "X_tr_scaled = scale.fit_transform(X_tr)\n",
    "X_te_scaled = scale.transform(X_te)\n",
    "\n",
    "lr = LogisticRegression()\n",
    "lr.fit(X_tr_scaled, y_tr)\n",
    "f1_score(lr.predict(X_te_scaled), y_te)"
   ]
  },
  {
   "cell_type": "code",
   "execution_count": 24,
   "metadata": {},
   "outputs": [
    {
     "data": {
      "text/plain": [
       "0.18230474700481702"
      ]
     },
     "execution_count": 24,
     "metadata": {},
     "output_type": "execute_result"
    }
   ],
   "source": [
    "rf = RandomForestClassifier(n_estimators=100, n_jobs=-1,random_state=42)\n",
    "rf.fit(X_tr, y_tr)\n",
    "f1_score(rf.predict(X_te), y_te)"
   ]
  },
  {
   "cell_type": "markdown",
   "metadata": {},
   "source": [
    "Both improve"
   ]
  },
  {
   "cell_type": "markdown",
   "metadata": {},
   "source": [
    "# Initial User-Product Features"
   ]
  },
  {
   "cell_type": "code",
   "execution_count": 25,
   "metadata": {},
   "outputs": [],
   "source": [
    "user_prod_features = ['user_product_avg_add_to_cart_order','user_product_avg_order_dow',\\\n",
    "                      'user_product_avg_order_hour_of_day','user_product_avg_days_since_prior_order']\n",
    "\n",
    "df_user_prod_features = (df_order_products_prior.groupby(['product_id','user_id'],as_index=False) \\\n",
    "                                                .agg(OrderedDict(\n",
    "                                                     [('add_to_cart_order','mean'),\n",
    "                                                      ('order_dow', 'mean'),\n",
    "                                                      ('order_hour_of_day', 'mean'),\n",
    "                                                      ('days_since_prior_order', 'mean')])))\n",
    "\n",
    "df_user_prod_features.columns = ['product_id','user_id'] + user_prod_features \n",
    "\n",
    "df_X = df_X.merge(df_user_prod_features,on=['user_id','product_id'])\n",
    "\n",
    "df_X['user_product_order_freq'] = df_X['user_product_total_orders'] / df_X['user_total_orders'] "
   ]
  },
  {
   "cell_type": "code",
   "execution_count": 26,
   "metadata": {},
   "outputs": [],
   "source": [
    "# Replace NA values in the user_product_avg_days_since_prior_order column with -1 to indicate it was first purchase of item\n",
    "\n",
    "df_X = df_X.fillna(-1)"
   ]
  },
  {
   "cell_type": "code",
   "execution_count": 29,
   "metadata": {},
   "outputs": [
    {
     "data": {
      "text/plain": [
       "0.22873093253656235"
      ]
     },
     "execution_count": 29,
     "metadata": {},
     "output_type": "execute_result"
    }
   ],
   "source": [
    "X_tr, X_h, y_tr, y_h, df_tr = get_user_split_data(df_X)\n",
    "X_tr, X_te, y_tr, y_te, _ = get_user_split_data(df_tr)\n",
    "\n",
    "scale = StandardScaler()\n",
    "X_tr_scaled = scale.fit_transform(X_tr)\n",
    "X_te_scaled = scale.transform(X_te)\n",
    "\n",
    "lr = LogisticRegression()\n",
    "lr.fit(X_tr_scaled, y_tr)\n",
    "f1_score(lr.predict(X_te_scaled), y_te)"
   ]
  },
  {
   "cell_type": "code",
   "execution_count": 30,
   "metadata": {},
   "outputs": [
    {
     "data": {
      "text/plain": [
       "0.19935665132945152"
      ]
     },
     "execution_count": 30,
     "metadata": {},
     "output_type": "execute_result"
    }
   ],
   "source": [
    "rf = RandomForestClassifier(n_estimators=100, n_jobs=-1,random_state=42)\n",
    "rf.fit(X_tr, y_tr)\n",
    "f1_score(rf.predict(X_te), y_te)"
   ]
  },
  {
   "cell_type": "markdown",
   "metadata": {},
   "source": [
    "Logistic is doing better now!"
   ]
  },
  {
   "cell_type": "code",
   "execution_count": 31,
   "metadata": {},
   "outputs": [],
   "source": [
    "# Save file out to csv\n",
    "df_X.to_csv('instacart_df_X_sample_features_initial.csv', index=False)"
   ]
  },
  {
   "cell_type": "markdown",
   "metadata": {},
   "source": [
    "# Accounting for class imbalance"
   ]
  },
  {
   "cell_type": "markdown",
   "metadata": {},
   "source": [
    "## Using oversampling"
   ]
  },
  {
   "cell_type": "code",
   "execution_count": 32,
   "metadata": {},
   "outputs": [
    {
     "name": "stderr",
     "output_type": "stream",
     "text": [
      "/Users/andersolson-swanson/anaconda3/lib/python3.6/site-packages/sklearn/utils/deprecation.py:77: DeprecationWarning: Function _ratio_float is deprecated; Use a float for 'ratio' is deprecated from version 0.2. The support will be removed in 0.4. Use a dict, str, or a callable instead.\n",
      "  warnings.warn(msg, category=DeprecationWarning)\n"
     ]
    },
    {
     "name": "stdout",
     "output_type": "stream",
     "text": [
      "Simple Logistic Regression; Test F1: 0.229, Test AUC: 0.786\n",
      "Logistic Regression on Oversampled Train Data; Test F1: 0.382, Test AUC: 0.787\n"
     ]
    },
    {
     "name": "stderr",
     "output_type": "stream",
     "text": [
      "/Users/andersolson-swanson/anaconda3/lib/python3.6/site-packages/sklearn/utils/deprecation.py:77: DeprecationWarning: Function _ratio_float is deprecated; Use a float for 'ratio' is deprecated from version 0.2. The support will be removed in 0.4. Use a dict, str, or a callable instead.\n",
      "  warnings.warn(msg, category=DeprecationWarning)\n"
     ]
    },
    {
     "name": "stdout",
     "output_type": "stream",
     "text": [
      "Simple Random Forest Regression; Test F1: 0.199, Test AUC: 0.772\n",
      "Random Forest Regression on Oversampled Train Data; Test F1: 0.253, Test AUC: 0.777\n"
     ]
    }
   ],
   "source": [
    "\n",
    "# randomly oversample positive samples to be 40% of targets \n",
    "ROS = imblearn.over_sampling.RandomOverSampler(ratio=.4, random_state=42) \n",
    "    \n",
    "X_tr_scaled_rs, y_tr_rs = ROS.fit_sample(X_tr_scaled, y_tr)\n",
    "\n",
    "lr = LogisticRegression() \n",
    "lr.fit(X_tr_scaled, y_tr)\n",
    "\n",
    "print('Simple Logistic Regression; Test F1: %.3f, Test AUC: %.3f' % \\\n",
    "      (f1_score(lr.predict(X_te_scaled), y_te), roc_auc_score(y_te, lr.predict_proba(X_te_scaled)[:,1]))) \n",
    "\n",
    "lr_os = LogisticRegression() \n",
    "lr_os.fit(X_tr_scaled_rs, y_tr_rs)\n",
    "\n",
    "print('Logistic Regression on Oversampled Train Data; Test F1: %.3f, Test AUC: %.3f' % \\\n",
    "      (f1_score(lr_os.predict(X_te_scaled), y_te), roc_auc_score(y_te, lr_os.predict_proba(X_te_scaled)[:,1])))\n",
    "\n",
    "X_tr_rs, y_tr_rs = ROS.fit_sample(X_tr, y_tr)\n",
    "\n",
    "rf = RandomForestClassifier(n_estimators=100, n_jobs=-1,random_state=42)\n",
    "rf.fit(X_tr, y_tr)\n",
    "\n",
    "print('Simple Random Forest Regression; Test F1: %.3f, Test AUC: %.3f' % \\\n",
    "      (f1_score(rf.predict(X_te), y_te), roc_auc_score(y_te, rf.predict_proba(X_te)[:,1]))) \n",
    "\n",
    "rf_o = RandomForestClassifier(n_estimators=100, n_jobs=-1,random_state=42)\n",
    "rf_o.fit(X_tr_rs, y_tr_rs)\n",
    "\n",
    "print('Random Forest Regression on Oversampled Train Data; Test F1: %.3f, Test AUC: %.3f' % \\\n",
    "      (f1_score(rf_o.predict(X_te), y_te), roc_auc_score(y_te, rf_o.predict_proba(X_te)[:,1]))) \n"
   ]
  },
  {
   "cell_type": "markdown",
   "metadata": {},
   "source": [
    "Helps for both, logistic is still performing better"
   ]
  },
  {
   "cell_type": "markdown",
   "metadata": {},
   "source": [
    "## Using class weights"
   ]
  },
  {
   "cell_type": "code",
   "execution_count": 33,
   "metadata": {},
   "outputs": [
    {
     "name": "stdout",
     "output_type": "stream",
     "text": [
      "Normal Logistic Regression Test F1: 0.229, Test AUC: 0.786\n",
      "Balanced class weights Logistic Regression Test F1: 0.355, Test AUC: 0.787\n",
      "4:1 class weights Logistic Regression Test F1: 0.385, Test AUC: 0.787\n"
     ]
    }
   ],
   "source": [
    "lr = LogisticRegression() \n",
    "lr_balanced = LogisticRegression(class_weight='balanced')\n",
    "lr_4x = LogisticRegression(class_weight={1 : 4, 0 : 1})\n",
    "\n",
    "lr.fit(X_tr_scaled, y_tr)\n",
    "print('Normal Logistic Regression Test F1: %.3f, Test AUC: %.3f' % \\\n",
    "      (f1_score(lr.predict(X_te_scaled), y_te), roc_auc_score(y_te, lr.predict_proba(X_te_scaled)[:,1])))\n",
    "\n",
    "lr_balanced.fit(X_tr_scaled, y_tr)\n",
    "print('Balanced class weights Logistic Regression Test F1: %.3f, Test AUC: %.3f' % \\\n",
    "      (f1_score(lr_balanced.predict(X_te_scaled), y_te), roc_auc_score(y_te, lr_balanced.predict_proba(X_te_scaled)[:,1])))\n",
    "\n",
    "lr_4x.fit(X_tr_scaled, y_tr)\n",
    "print('4:1 class weights Logistic Regression Test F1: %.3f, Test AUC: %.3f' % \\\n",
    "      (f1_score(lr_4x.predict(X_te_scaled), y_te), roc_auc_score(y_te, lr_4x.predict_proba(X_te_scaled)[:,1])))"
   ]
  },
  {
   "cell_type": "code",
   "execution_count": 34,
   "metadata": {},
   "outputs": [
    {
     "name": "stdout",
     "output_type": "stream",
     "text": [
      "Normal Random Forest Regression Test F1: 0.199, Test AUC: 0.772\n",
      "Balanced class weights Random Forest Regression Test F1: 0.156, Test AUC: 0.775\n",
      "4:1 class weights Random Forest Regression Test F1: 0.164, Test AUC: 0.774\n"
     ]
    }
   ],
   "source": [
    "rf = RandomForestClassifier(n_estimators=100,random_state=42, n_jobs=-1)\n",
    "rf_balanced = RandomForestClassifier(class_weight='balanced', random_state=42, n_jobs=-1, n_estimators=100)\n",
    "rf_4x = RandomForestClassifier(class_weight={1 : 4, 0 : 1}, random_state=42, n_jobs=-1, n_estimators=100)\n",
    "\n",
    "rf.fit(X_tr, y_tr)\n",
    "print('Normal Random Forest Regression Test F1: %.3f, Test AUC: %.3f' % \\\n",
    "      (f1_score(rf.predict(X_te), y_te), roc_auc_score(y_te, rf.predict_proba(X_te)[:,1])))\n",
    "\n",
    "rf_balanced.fit(X_tr, y_tr)\n",
    "print('Balanced class weights Random Forest Regression Test F1: %.3f, Test AUC: %.3f' % \\\n",
    "      (f1_score(rf_balanced.predict(X_te), y_te), roc_auc_score(y_te, rf_balanced.predict_proba(X_te)[:,1])))\n",
    "\n",
    "rf_4x.fit(X_tr, y_tr)\n",
    "print('4:1 class weights Random Forest Regression Test F1: %.3f, Test AUC: %.3f' % \\\n",
    "      (f1_score(rf_4x.predict(X_te), y_te), roc_auc_score(y_te, rf_4x.predict_proba(X_te)[:,1])))"
   ]
  },
  {
   "cell_type": "markdown",
   "metadata": {},
   "source": [
    "Class weights helps logistic but not random forest"
   ]
  },
  {
   "cell_type": "markdown",
   "metadata": {},
   "source": [
    "# Adjusting F1 threshold"
   ]
  },
  {
   "cell_type": "code",
   "execution_count": 35,
   "metadata": {},
   "outputs": [
    {
     "name": "stdout",
     "output_type": "stream",
     "text": [
      "Logistic Regression Model best F1 score 0.390 at prob decision threshold >= 0.163\n"
     ]
    },
    {
     "data": {
      "image/png": "[encoded data removed]",
      "text/plain": [
       "<matplotlib.figure.Figure at 0x118c13080>"
      ]
     },
     "metadata": {},
     "output_type": "display_data"
    }
   ],
   "source": [
    "\n",
    "thresh_ps = np.linspace(.10,.50,1000)\n",
    "model_te_probs = lr.predict_proba(X_te_scaled)[:,1] # positive class probs, same basic logistic model we fit in section 2 \n",
    "\n",
    "f1_scores = []\n",
    "for p in thresh_ps:\n",
    "    model_te_labels = model_te_probs >= p\n",
    "    f1_scores.append(f1_score(model_te_labels, y_te))\n",
    "    \n",
    "plt.plot(thresh_ps, f1_scores)\n",
    "plt.title('F1 Score vs. Positive Class Decision Probability Threshold')\n",
    "plt.xlabel('P threshold')\n",
    "plt.ylabel('F1 score')\n",
    "\n",
    "best_f1_score = np.max(f1_scores) \n",
    "best_thresh_p = thresh_ps[np.argmax(f1_scores)]\n",
    "\n",
    "print('Logistic Regression Model best F1 score %.3f at prob decision threshold >= %.3f' \n",
    "      % (best_f1_score, best_thresh_p))"
   ]
  },
  {
   "cell_type": "code",
   "execution_count": 36,
   "metadata": {},
   "outputs": [
    {
     "name": "stdout",
     "output_type": "stream",
     "text": [
      "Random Forest Regression Model best F1 score 0.376 at prob decision threshold >= 0.220\n"
     ]
    },
    {
     "data": {
      "image/png": "[encoded data removed]",
      "text/plain": [
       "<matplotlib.figure.Figure at 0x11ab78dd8>"
      ]
     },
     "metadata": {},
     "output_type": "display_data"
    }
   ],
   "source": [
    "thresh_ps = np.linspace(.10,.50,1000)\n",
    "model_te_probs = rf.predict_proba(X_te)[:,1] # positive class probs, same basic logistic model we fit in section 2 \n",
    "\n",
    "f1_scores = []\n",
    "for p in thresh_ps:\n",
    "    model_te_labels = model_te_probs >= p\n",
    "    f1_scores.append(f1_score(model_te_labels, y_te))\n",
    "    \n",
    "plt.plot(thresh_ps, f1_scores)\n",
    "plt.title('F1 Score vs. Positive Class Decision Probability Threshold')\n",
    "plt.xlabel('P threshold')\n",
    "plt.ylabel('F1 score')\n",
    "\n",
    "best_f1_score = np.max(f1_scores) \n",
    "best_thresh_p = thresh_ps[np.argmax(f1_scores)]\n",
    "\n",
    "print('Random Forest Regression Model best F1 score %.3f at prob decision threshold >= %.3f' \n",
    "      % (best_f1_score, best_thresh_p))"
   ]
  },
  {
   "cell_type": "markdown",
   "metadata": {},
   "source": [
    "Changing the threshold improves both models but the logistic is still performing better."
   ]
  },
  {
   "cell_type": "markdown",
   "metadata": {},
   "source": [
    "Adjusting the F-1 score had the biggest impact"
   ]
  },
  {
   "cell_type": "markdown",
   "metadata": {},
   "source": [
    "# Adding additional user-product features"
   ]
  },
  {
   "cell_type": "code",
   "execution_count": 29,
   "metadata": {},
   "outputs": [],
   "source": [
    "# Adding feature for number of orders since prior time product was ordered\n",
    "\n",
    "df_orders_since_reorder = df_order_products_prior[['product_id','user_id','order_number']]\n",
    "\n",
    "df_orders_since_reorder = (df_orders_since_reorder.merge(df_orders_since_reorder, on=['user_id','product_id'])\\\n",
    "                           .sort_values(by=['user_id','order_number_x','order_number_y'], ascending=False))\n",
    "\n",
    "df_orders_since_reorder = df_orders_since_reorder[df_orders_since_reorder['order_number_x'] > \\\n",
    "                                                  df_orders_since_reorder['order_number_y']]\n",
    "\n",
    "df_orders_since_reorder = df_orders_since_reorder.groupby(['product_id', 'user_id', 'order_number_x'])\\\n",
    "                                                        ['order_number_y'].max().reset_index()\n",
    "\n",
    "df_orders_since_reorder['orders_since_prior'] = df_orders_since_reorder['order_number_x'] - \\\n",
    "                                                df_orders_since_reorder['order_number_y']\n",
    "    \n",
    "df_orders_since_reorder = df_orders_since_reorder.rename(columns={'order_number_x':'order_number'})\n",
    "df_orders_since_reorder = df_orders_since_reorder.drop(columns='order_number_y')"
   ]
  },
  {
   "cell_type": "code",
   "execution_count": 30,
   "metadata": {},
   "outputs": [],
   "source": [
    "df_order_products_prior = df_order_products_prior.merge(df_orders_since_reorder, on=['product_id','user_id','order_number'], how='left')"
   ]
  },
  {
   "cell_type": "code",
   "execution_count": 31,
   "metadata": {},
   "outputs": [],
   "source": [
    "user_prod_features2 = ['user_product_orders_since_prior']\n",
    "\n",
    "df_user_prod_features2 = (df_order_products_prior.groupby(['product_id','user_id'],as_index=False) \\\n",
    "                                                .agg(OrderedDict(\n",
    "                                                     [('orders_since_prior','mean')])))\n",
    "\n",
    "df_user_prod_features2.columns = ['product_id','user_id'] + user_prod_features2"
   ]
  },
  {
   "cell_type": "code",
   "execution_count": 32,
   "metadata": {},
   "outputs": [],
   "source": [
    "df_X = df_X.merge(df_user_prod_features2,on=['user_id','product_id'])"
   ]
  },
  {
   "cell_type": "code",
   "execution_count": 33,
   "metadata": {},
   "outputs": [],
   "source": [
    "df_X = df_X.fillna(-1)"
   ]
  },
  {
   "cell_type": "code",
   "execution_count": 114,
   "metadata": {},
   "outputs": [],
   "source": [
    "def testing(df):\n",
    "    X_tr, X_h, y_tr, y_h, df_tr = get_user_split_data(df_X)\n",
    "    X_tr, X_te, y_tr, y_te, _ = get_user_split_data(df_tr)\n",
    "\n",
    "    scale = StandardScaler()\n",
    "    X_tr_scaled = scale.fit_transform(X_tr)\n",
    "    X_te_scaled = scale.transform(X_te)\n",
    "\n",
    "    lr = LogisticRegression()\n",
    "    lr.fit(X_tr_scaled, y_tr)\n",
    "    print('Logistic Regression F1 score', f1_score(lr.predict(X_te_scaled), y_te))\n",
    "\n",
    "    rf = RandomForestClassifier(n_estimators=100,random_state=42,n_jobs=-1)\n",
    "    rf.fit(X_tr, y_tr)\n",
    "    print('Random Forest F1 score', f1_score(rf.predict(X_te), y_te))\n",
    "\n",
    "    thresh_ps = np.linspace(.10,.50,1000)\n",
    "    \n",
    "    model_te_probs = lr.predict_proba(X_te_scaled)[:,1] # positive class probs, same basic logistic model we fit in section 2 \n",
    "\n",
    "    f1_scores = []\n",
    "    for p in thresh_ps:\n",
    "        model_te_labels = model_te_probs >= p\n",
    "        f1_scores.append(f1_score(model_te_labels, y_te))\n",
    "\n",
    "    best_f1_score = np.max(f1_scores) \n",
    "    best_thresh_p = thresh_ps[np.argmax(f1_scores)]\n",
    "\n",
    "    print('Logistic Regression Model best F1 score %.3f at prob decision threshold >= %.3f' \n",
    "          % (best_f1_score, best_thresh_p))\n",
    "\n",
    "\n",
    "    model_te_probs = rf.predict_proba(X_te)[:,1] # positive class probs, same basic logistic model we fit in section 2 \n",
    "\n",
    "    f1_scores = []\n",
    "    for p in thresh_ps:\n",
    "        model_te_labels = model_te_probs >= p\n",
    "        f1_scores.append(f1_score(model_te_labels, y_te))\n",
    "\n",
    "    best_f1_score = np.max(f1_scores) \n",
    "    best_thresh_p = thresh_ps[np.argmax(f1_scores)]\n",
    "\n",
    "    print('Random Forest Regression Model best F1 score %.3f at prob decision threshold >= %.3f' \n",
    "          % (best_f1_score, best_thresh_p))"
   ]
  },
  {
   "cell_type": "code",
   "execution_count": 35,
   "metadata": {},
   "outputs": [],
   "source": [
    "thresh_ps = np.linspace(.10,.50,1000)"
   ]
  },
  {
   "cell_type": "code",
   "execution_count": 43,
   "metadata": {},
   "outputs": [
    {
     "name": "stdout",
     "output_type": "stream",
     "text": [
      "Logistic Regression F1 score 0.22629148743044317\n",
      "Random Forest F1 score 0.1971474110098492\n",
      "Logistic Regression Model best F1 score 0.390 at prob decision threshold >= 0.162\n",
      "Random Forest Regression Model best F1 score 0.379 at prob decision threshold >= 0.230\n"
     ]
    }
   ],
   "source": [
    "thresh_ps = np.linspace(.10,.50,1000)\n",
    "\n",
    "testing(df_X)"
   ]
  },
  {
   "cell_type": "markdown",
   "metadata": {},
   "source": [
    "This improves the model slightly when changing the f1 threshold"
   ]
  },
  {
   "cell_type": "code",
   "execution_count": 36,
   "metadata": {},
   "outputs": [],
   "source": [
    "# Adding feature for number of orders since user ordered product from same aisle\n",
    "\n",
    "df_orders_since_reorder_aisle = df_order_products_prior[['product_id','user_id','order_number','aisle']]\n",
    "\n",
    "df_orders_since_reorder_aisle = (df_orders_since_reorder_aisle.merge(df_orders_since_reorder_aisle, on=['user_id','aisle'])\\\n",
    "                           .sort_values(by=['user_id','order_number_x','order_number_y'], ascending=False))\n",
    "\n",
    "df_orders_since_reorder_aisle = df_orders_since_reorder_aisle[df_orders_since_reorder_aisle['order_number_x'] > \\\n",
    "                                                  df_orders_since_reorder_aisle['order_number_y']]\n",
    "\n",
    "df_orders_since_reorder_aisle = df_orders_since_reorder_aisle.groupby(['product_id_x','user_id','order_number_x','aisle'])\\\n",
    "                                                        ['order_number_y'].max().reset_index()\n",
    "\n",
    "df_orders_since_reorder_aisle['orders_since_prior_aisle'] = df_orders_since_reorder_aisle['order_number_x'] - \\\n",
    "                                                df_orders_since_reorder_aisle['order_number_y']\n",
    "    \n",
    "df_orders_since_reorder_aisle = df_orders_since_reorder_aisle.rename(columns={'order_number_x':'order_number',\\\n",
    "                                                                             'product_id_x':'product_id'})\n",
    "df_orders_since_reorder_aisle = df_orders_since_reorder_aisle.drop(columns='order_number_y')"
   ]
  },
  {
   "cell_type": "code",
   "execution_count": 37,
   "metadata": {},
   "outputs": [],
   "source": [
    "df_order_products_prior = df_order_products_prior.merge(df_orders_since_reorder_aisle, on=['product_id','user_id','order_number'], how='left')"
   ]
  },
  {
   "cell_type": "code",
   "execution_count": 38,
   "metadata": {},
   "outputs": [],
   "source": [
    "user_prod_features2 = ['user_product_orders_since_prior_aisle']\n",
    "\n",
    "df_user_prod_features2 = (df_order_products_prior.groupby(['product_id','user_id'],as_index=False) \\\n",
    "                                                .agg(OrderedDict(\n",
    "                                                     [('orders_since_prior_aisle','mean')])))\n",
    "\n",
    "df_user_prod_features2.columns = ['product_id','user_id'] + user_prod_features2"
   ]
  },
  {
   "cell_type": "code",
   "execution_count": 39,
   "metadata": {},
   "outputs": [],
   "source": [
    "df_X = df_X.merge(df_user_prod_features2,on=['user_id','product_id'])\n",
    "\n",
    "df_X = df_X.fillna(-1)"
   ]
  },
  {
   "cell_type": "code",
   "execution_count": 48,
   "metadata": {},
   "outputs": [
    {
     "name": "stdout",
     "output_type": "stream",
     "text": [
      "Logistic Regression F1 score 0.2267187315110638\n",
      "Random Forest F1 score 0.19500594530321044\n",
      "Logistic Regression Model best F1 score 0.390 at prob decision threshold >= 0.163\n",
      "Random Forest Regression Model best F1 score 0.378 at prob decision threshold >= 0.210\n"
     ]
    }
   ],
   "source": [
    "testing(df_X)"
   ]
  },
  {
   "cell_type": "markdown",
   "metadata": {},
   "source": [
    "The adjusted F1 models didn't improve."
   ]
  },
  {
   "cell_type": "code",
   "execution_count": 40,
   "metadata": {},
   "outputs": [],
   "source": [
    "df_X = df_X.drop(columns='user_product_orders_since_prior_aisle')"
   ]
  },
  {
   "cell_type": "code",
   "execution_count": 41,
   "metadata": {},
   "outputs": [],
   "source": [
    "# Adding feature for number of orders since user ordered product from same department\n",
    "\n",
    "df_orders_since_reorder_dpt = df_order_products_prior[['product_id','user_id','order_number','department']]\n",
    "\n",
    "df_orders_since_reorder_dpt = (df_orders_since_reorder_dpt.merge(df_orders_since_reorder_dpt, on=['user_id','department'])\\\n",
    "                           .sort_values(by=['user_id','order_number_x','order_number_y'], ascending=False))\n",
    "\n",
    "df_orders_since_reorder_dpt = df_orders_since_reorder_dpt[df_orders_since_reorder_dpt['order_number_x'] > \\\n",
    "                                                  df_orders_since_reorder_dpt['order_number_y']]\n",
    "\n",
    "df_orders_since_reorder_dpt = df_orders_since_reorder_dpt.groupby(['product_id_x','user_id','order_number_x','department'])\\\n",
    "                                                        ['order_number_y'].max().reset_index()\n",
    "\n",
    "df_orders_since_reorder_dpt['orders_since_prior_department'] = df_orders_since_reorder_dpt['order_number_x'] - \\\n",
    "                                                df_orders_since_reorder_dpt['order_number_y']\n",
    "    \n",
    "df_orders_since_reorder_dpt = df_orders_since_reorder_dpt.rename(columns={'order_number_x':'order_number',\\\n",
    "                                                                             'product_id_x':'product_id'})\n",
    "df_orders_since_reorder_dpt = df_orders_since_reorder_dpt.drop(columns='order_number_y')"
   ]
  },
  {
   "cell_type": "code",
   "execution_count": 42,
   "metadata": {},
   "outputs": [],
   "source": [
    "df_order_products_prior = df_order_products_prior.merge(df_orders_since_reorder_dpt, on=['product_id','user_id','order_number'], how='left')"
   ]
  },
  {
   "cell_type": "code",
   "execution_count": 43,
   "metadata": {},
   "outputs": [],
   "source": [
    "user_prod_features2 = ['user_product_orders_since_prior_department']\n",
    "\n",
    "df_user_prod_features2 = (df_order_products_prior.groupby(['product_id','user_id'],as_index=False) \\\n",
    "                                                .agg(OrderedDict(\n",
    "                                                     [('orders_since_prior_department','mean')])))\n",
    "\n",
    "df_user_prod_features2.columns = ['product_id','user_id'] + user_prod_features2"
   ]
  },
  {
   "cell_type": "code",
   "execution_count": 44,
   "metadata": {},
   "outputs": [],
   "source": [
    "df_X = df_X.merge(df_user_prod_features2,on=['user_id','product_id'])\n",
    "\n",
    "df_X = df_X.fillna(-1)"
   ]
  },
  {
   "cell_type": "code",
   "execution_count": 54,
   "metadata": {},
   "outputs": [
    {
     "name": "stdout",
     "output_type": "stream",
     "text": [
      "Logistic Regression F1 score 0.2265267476724002\n",
      "Random Forest F1 score 0.19563618533954402\n",
      "Logistic Regression Model best F1 score 0.391 at prob decision threshold >= 0.162\n",
      "Random Forest Regression Model best F1 score 0.379 at prob decision threshold >= 0.220\n"
     ]
    }
   ],
   "source": [
    "testing(df_X)"
   ]
  },
  {
   "cell_type": "markdown",
   "metadata": {},
   "source": [
    "This improves the logistic model"
   ]
  },
  {
   "cell_type": "code",
   "execution_count": 45,
   "metadata": {},
   "outputs": [
    {
     "ename": "KeyboardInterrupt",
     "evalue": "",
     "output_type": "error",
     "traceback": [
      "\u001b[0;31m---------------------------------------------------------------------------\u001b[0m",
      "\u001b[0;31mKeyboardInterrupt\u001b[0m                         Traceback (most recent call last)",
      "\u001b[0;32m<ipython-input-45-a1d10b24ba52>\u001b[0m in \u001b[0;36m<module>\u001b[0;34m()\u001b[0m\n\u001b[1;32m      3\u001b[0m \u001b[0mdf_orders_since_reorder_cat\u001b[0m \u001b[0;34m=\u001b[0m \u001b[0mdf_order_products_prior\u001b[0m\u001b[0;34m[\u001b[0m\u001b[0;34m[\u001b[0m\u001b[0;34m'product_id'\u001b[0m\u001b[0;34m,\u001b[0m\u001b[0;34m'user_id'\u001b[0m\u001b[0;34m,\u001b[0m\u001b[0;34m'order_number'\u001b[0m\u001b[0;34m,\u001b[0m\u001b[0;34m'category'\u001b[0m\u001b[0;34m]\u001b[0m\u001b[0;34m]\u001b[0m\u001b[0;34m\u001b[0m\u001b[0m\n\u001b[1;32m      4\u001b[0m \u001b[0;34m\u001b[0m\u001b[0m\n\u001b[0;32m----> 5\u001b[0;31m \u001b[0mdf_orders_since_reorder_cat\u001b[0m \u001b[0;34m=\u001b[0m \u001b[0;34m(\u001b[0m\u001b[0mdf_orders_since_reorder_cat\u001b[0m\u001b[0;34m.\u001b[0m\u001b[0mmerge\u001b[0m\u001b[0;34m(\u001b[0m\u001b[0mdf_orders_since_reorder_cat\u001b[0m\u001b[0;34m,\u001b[0m \u001b[0mon\u001b[0m\u001b[0;34m=\u001b[0m\u001b[0;34m[\u001b[0m\u001b[0;34m'user_id'\u001b[0m\u001b[0;34m,\u001b[0m\u001b[0;34m'category'\u001b[0m\u001b[0;34m]\u001b[0m\u001b[0;34m)\u001b[0m                           \u001b[0;34m.\u001b[0m\u001b[0msort_values\u001b[0m\u001b[0;34m(\u001b[0m\u001b[0mby\u001b[0m\u001b[0;34m=\u001b[0m\u001b[0;34m[\u001b[0m\u001b[0;34m'user_id'\u001b[0m\u001b[0;34m,\u001b[0m\u001b[0;34m'order_number_x'\u001b[0m\u001b[0;34m,\u001b[0m\u001b[0;34m'order_number_y'\u001b[0m\u001b[0;34m]\u001b[0m\u001b[0;34m,\u001b[0m \u001b[0mascending\u001b[0m\u001b[0;34m=\u001b[0m\u001b[0;32mFalse\u001b[0m\u001b[0;34m)\u001b[0m\u001b[0;34m)\u001b[0m\u001b[0;34m\u001b[0m\u001b[0m\n\u001b[0m\u001b[1;32m      6\u001b[0m \u001b[0;34m\u001b[0m\u001b[0m\n\u001b[1;32m      7\u001b[0m \u001b[0mdf_orders_since_reorder_cat\u001b[0m \u001b[0;34m=\u001b[0m \u001b[0mdf_orders_since_reorder_cat\u001b[0m\u001b[0;34m[\u001b[0m\u001b[0mdf_orders_since_reorder_cat\u001b[0m\u001b[0;34m[\u001b[0m\u001b[0;34m'order_number_x'\u001b[0m\u001b[0;34m]\u001b[0m \u001b[0;34m>\u001b[0m                                                   \u001b[0mdf_orders_since_reorder_cat\u001b[0m\u001b[0;34m[\u001b[0m\u001b[0;34m'order_number_y'\u001b[0m\u001b[0;34m]\u001b[0m\u001b[0;34m]\u001b[0m\u001b[0;34m\u001b[0m\u001b[0m\n",
      "\u001b[0;32m~/anaconda3/lib/python3.6/site-packages/pandas/core/frame.py\u001b[0m in \u001b[0;36msort_values\u001b[0;34m(self, by, axis, ascending, inplace, kind, na_position)\u001b[0m\n\u001b[1;32m   3611\u001b[0m                 \u001b[0mkeys\u001b[0m\u001b[0;34m.\u001b[0m\u001b[0mappend\u001b[0m\u001b[0;34m(\u001b[0m\u001b[0mk\u001b[0m\u001b[0;34m)\u001b[0m\u001b[0;34m\u001b[0m\u001b[0m\n\u001b[1;32m   3612\u001b[0m             indexer = lexsort_indexer(keys, orders=ascending,\n\u001b[0;32m-> 3613\u001b[0;31m                                       na_position=na_position)\n\u001b[0m\u001b[1;32m   3614\u001b[0m             \u001b[0mindexer\u001b[0m \u001b[0;34m=\u001b[0m \u001b[0m_ensure_platform_int\u001b[0m\u001b[0;34m(\u001b[0m\u001b[0mindexer\u001b[0m\u001b[0;34m)\u001b[0m\u001b[0;34m\u001b[0m\u001b[0m\n\u001b[1;32m   3615\u001b[0m         \u001b[0;32melse\u001b[0m\u001b[0;34m:\u001b[0m\u001b[0;34m\u001b[0m\u001b[0m\n",
      "\u001b[0;32m~/anaconda3/lib/python3.6/site-packages/pandas/core/sorting.py\u001b[0m in \u001b[0;36mlexsort_indexer\u001b[0;34m(keys, orders, na_position)\u001b[0m\n\u001b[1;32m    225\u001b[0m         \u001b[0mlabels\u001b[0m\u001b[0;34m.\u001b[0m\u001b[0mappend\u001b[0m\u001b[0;34m(\u001b[0m\u001b[0mcodes\u001b[0m\u001b[0;34m)\u001b[0m\u001b[0;34m\u001b[0m\u001b[0m\n\u001b[1;32m    226\u001b[0m \u001b[0;34m\u001b[0m\u001b[0m\n\u001b[0;32m--> 227\u001b[0;31m     \u001b[0;32mreturn\u001b[0m \u001b[0mindexer_from_factorized\u001b[0m\u001b[0;34m(\u001b[0m\u001b[0mlabels\u001b[0m\u001b[0;34m,\u001b[0m \u001b[0mshape\u001b[0m\u001b[0;34m)\u001b[0m\u001b[0;34m\u001b[0m\u001b[0m\n\u001b[0m\u001b[1;32m    228\u001b[0m \u001b[0;34m\u001b[0m\u001b[0m\n\u001b[1;32m    229\u001b[0m \u001b[0;34m\u001b[0m\u001b[0m\n",
      "\u001b[0;32m~/anaconda3/lib/python3.6/site-packages/pandas/core/sorting.py\u001b[0m in \u001b[0;36mindexer_from_factorized\u001b[0;34m(labels, shape, compress)\u001b[0m\n\u001b[1;32m    179\u001b[0m         \u001b[0mngroups\u001b[0m \u001b[0;34m=\u001b[0m \u001b[0mlen\u001b[0m\u001b[0;34m(\u001b[0m\u001b[0mobs\u001b[0m\u001b[0;34m)\u001b[0m\u001b[0;34m\u001b[0m\u001b[0m\n\u001b[1;32m    180\u001b[0m \u001b[0;34m\u001b[0m\u001b[0m\n\u001b[0;32m--> 181\u001b[0;31m     \u001b[0;32mreturn\u001b[0m \u001b[0mget_group_index_sorter\u001b[0m\u001b[0;34m(\u001b[0m\u001b[0mids\u001b[0m\u001b[0;34m,\u001b[0m \u001b[0mngroups\u001b[0m\u001b[0;34m)\u001b[0m\u001b[0;34m\u001b[0m\u001b[0m\n\u001b[0m\u001b[1;32m    182\u001b[0m \u001b[0;34m\u001b[0m\u001b[0m\n\u001b[1;32m    183\u001b[0m \u001b[0;34m\u001b[0m\u001b[0m\n",
      "\u001b[0;32m~/anaconda3/lib/python3.6/site-packages/pandas/core/sorting.py\u001b[0m in \u001b[0;36mget_group_index_sorter\u001b[0;34m(group_index, ngroups)\u001b[0m\n\u001b[1;32m    335\u001b[0m     \u001b[0;32mif\u001b[0m \u001b[0mdo_groupsort\u001b[0m\u001b[0;34m:\u001b[0m\u001b[0;34m\u001b[0m\u001b[0m\n\u001b[1;32m    336\u001b[0m         sorter, _ = algos.groupsort_indexer(_ensure_int64(group_index),\n\u001b[0;32m--> 337\u001b[0;31m                                             ngroups)\n\u001b[0m\u001b[1;32m    338\u001b[0m         \u001b[0;32mreturn\u001b[0m \u001b[0m_ensure_platform_int\u001b[0m\u001b[0;34m(\u001b[0m\u001b[0msorter\u001b[0m\u001b[0;34m)\u001b[0m\u001b[0;34m\u001b[0m\u001b[0m\n\u001b[1;32m    339\u001b[0m     \u001b[0;32melse\u001b[0m\u001b[0;34m:\u001b[0m\u001b[0;34m\u001b[0m\u001b[0m\n",
      "\u001b[0;31mKeyboardInterrupt\u001b[0m: "
     ]
    }
   ],
   "source": [
    "# Adding feature for number of orders since user ordered product from same category\n",
    "\n",
    "df_orders_since_reorder_cat = df_order_products_prior[['product_id','user_id','order_number','category']]\n",
    "\n",
    "df_orders_since_reorder_cat = (df_orders_since_reorder_cat.merge(df_orders_since_reorder_cat, on=['user_id','category'])\\\n",
    "                           .sort_values(by=['user_id','order_number_x','order_number_y'], ascending=False))\n",
    "\n",
    "df_orders_since_reorder_cat = df_orders_since_reorder_cat[df_orders_since_reorder_cat['order_number_x'] > \\\n",
    "                                                  df_orders_since_reorder_cat['order_number_y']]\n",
    "\n",
    "df_orders_since_reorder_cat = df_orders_since_reorder_cat.groupby(['product_id_x','user_id','order_number_x','category'])\\\n",
    "                                                        ['order_number_y'].max().reset_index()\n",
    "\n",
    "df_orders_since_reorder_cat['orders_since_prior_category'] = df_orders_since_reorder_cat['order_number_x'] - \\\n",
    "                                                df_orders_since_reorder_cat['order_number_y']\n",
    "    \n",
    "df_orders_since_reorder_cat = df_orders_since_reorder_cat.rename(columns={'order_number_x':'order_number',\\\n",
    "                                                                             'product_id_x':'product_id'})\n",
    "df_orders_since_reorder_cat = df_orders_since_reorder_cat.drop(columns='order_number_y')"
   ]
  },
  {
   "cell_type": "code",
   "execution_count": null,
   "metadata": {},
   "outputs": [],
   "source": [
    "df_order_products_prior = df_order_products_prior.merge(df_orders_since_reorder_cat, on=['product_id','user_id','order_number'], how='left')"
   ]
  },
  {
   "cell_type": "code",
   "execution_count": null,
   "metadata": {},
   "outputs": [],
   "source": [
    "user_prod_features2 = ['user_product_orders_since_prior_category']\n",
    "\n",
    "df_user_prod_features2 = (df_order_products_prior.groupby(['product_id','user_id'],as_index=False) \\\n",
    "                                                .agg(OrderedDict(\n",
    "                                                     [('orders_since_prior_category','mean')])))\n",
    "\n",
    "df_user_prod_features2.columns = ['product_id','user_id'] + user_prod_features2"
   ]
  },
  {
   "cell_type": "code",
   "execution_count": null,
   "metadata": {},
   "outputs": [],
   "source": [
    "df_X = df_X.merge(df_user_prod_features2,on=['user_id','product_id'])\n",
    "\n",
    "df_X = df_X.fillna(-1)"
   ]
  },
  {
   "cell_type": "code",
   "execution_count": null,
   "metadata": {},
   "outputs": [],
   "source": [
    "testing(df_X)"
   ]
  },
  {
   "cell_type": "markdown",
   "metadata": {},
   "source": [
    "Doesn't improve model. Will disgard"
   ]
  },
  {
   "cell_type": "code",
   "execution_count": 451,
   "metadata": {},
   "outputs": [],
   "source": [
    "df_X = df_X.drop(columns='user_product_orders_since_prior_category')"
   ]
  },
  {
   "cell_type": "markdown",
   "metadata": {},
   "source": [
    "# Adding more product features"
   ]
  },
  {
   "cell_type": "code",
   "execution_count": 51,
   "metadata": {},
   "outputs": [],
   "source": [
    "user_current_order = df_order_products_train.groupby(['user_id', 'order_dow', 'order_hour_of_day'])['order_id'].nunique().reset_index()\n",
    "user_current_order = user_current_order.drop(columns='order_id')\n",
    "df_X = df_X.merge(user_current_order, on='user_id')"
   ]
  },
  {
   "cell_type": "code",
   "execution_count": 52,
   "metadata": {},
   "outputs": [],
   "source": [
    "df_X['product_avg_dow_delta'] = df_X['order_dow'] - df_X['product_avg_dow']\n",
    "df_X['product_avg_hod_delta'] = df_X['order_hour_of_day'] - df_X['product_avg_hour_of_day']"
   ]
  },
  {
   "cell_type": "code",
   "execution_count": 53,
   "metadata": {},
   "outputs": [],
   "source": [
    "df_X = df_X.drop(columns=['order_dow', 'order_hour_of_day'])"
   ]
  },
  {
   "cell_type": "code",
   "execution_count": 54,
   "metadata": {},
   "outputs": [
    {
     "name": "stdout",
     "output_type": "stream",
     "text": [
      "Logistic Regression F1 score 0.2270163675803589\n",
      "Random Forest F1 score 0.19767822105951602\n",
      "Logistic Regression Model best F1 score 0.391 at prob decision threshold >= 0.163\n",
      "Random Forest Regression Model best F1 score 0.380 at prob decision threshold >= 0.230\n"
     ]
    }
   ],
   "source": [
    "testing(df_X)"
   ]
  },
  {
   "cell_type": "markdown",
   "metadata": {},
   "source": [
    "Improves models"
   ]
  },
  {
   "cell_type": "markdown",
   "metadata": {},
   "source": [
    "# Adding additional user features"
   ]
  },
  {
   "cell_type": "code",
   "execution_count": 55,
   "metadata": {},
   "outputs": [],
   "source": [
    "user_current_order = df_order_products_train.groupby(['user_id', 'order_dow', 'order_hour_of_day'])['order_id'].nunique().reset_index()\n",
    "user_current_order = user_current_order.drop(columns='order_id')\n",
    "df_X = df_X.merge(user_current_order, on='user_id')\n",
    "\n",
    "df_X['user_avg_dow_delta'] = df_X['order_dow'] - df_X['user_avg_dow']\n",
    "df_X['user_avg_hod_delta'] = df_X['order_hour_of_day'] - df_X['user_avg_hour_of_day']\n",
    "\n",
    "df_X = df_X.drop(columns=['order_dow', 'order_hour_of_day'])"
   ]
  },
  {
   "cell_type": "code",
   "execution_count": 56,
   "metadata": {},
   "outputs": [
    {
     "name": "stdout",
     "output_type": "stream",
     "text": [
      "Logistic Regression F1 score 0.2270163675803589\n",
      "Random Forest F1 score 0.19561205659216732\n",
      "Logistic Regression Model best F1 score 0.391 at prob decision threshold >= 0.164\n",
      "Random Forest Regression Model best F1 score 0.377 at prob decision threshold >= 0.230\n"
     ]
    }
   ],
   "source": [
    "testing(df_X)"
   ]
  },
  {
   "cell_type": "code",
   "execution_count": 58,
   "metadata": {},
   "outputs": [],
   "source": [
    "df_X = df_X.drop(columns=['user_avg_dow_delta','user_avg_hod_delta'])"
   ]
  },
  {
   "cell_type": "markdown",
   "metadata": {},
   "source": [
    "# Adding additional User-product features"
   ]
  },
  {
   "cell_type": "code",
   "execution_count": 60,
   "metadata": {},
   "outputs": [],
   "source": [
    "user_current_order = df_order_products_train.groupby(['user_id', 'order_dow', 'order_hour_of_day'])['order_id'].nunique().reset_index()\n",
    "user_current_order = user_current_order.drop(columns='order_id')\n",
    "df_X = df_X.merge(user_current_order, on='user_id')\n",
    "\n",
    "df_X['user_product_avg_dow_delta'] = df_X['order_dow'] - df_X['user_product_avg_order_dow']\n",
    "df_X['user_product_avg_hod_delta'] = df_X['order_hour_of_day'] - df_X['user_product_avg_order_hour_of_day']\n",
    "\n",
    "df_X = df_X.drop(columns=['order_dow', 'order_hour_of_day'])"
   ]
  },
  {
   "cell_type": "code",
   "execution_count": 61,
   "metadata": {},
   "outputs": [
    {
     "name": "stdout",
     "output_type": "stream",
     "text": [
      "Logistic Regression F1 score 0.2270163675803589\n",
      "Random Forest F1 score 0.19518595973264447\n",
      "Logistic Regression Model best F1 score 0.391 at prob decision threshold >= 0.164\n",
      "Random Forest Regression Model best F1 score 0.379 at prob decision threshold >= 0.240\n"
     ]
    }
   ],
   "source": [
    "testing(df_X)"
   ]
  },
  {
   "cell_type": "code",
   "execution_count": 62,
   "metadata": {},
   "outputs": [],
   "source": [
    "df_X = df_X.drop(columns=['user_product_avg_dow_delta','user_product_avg_hod_delta'])"
   ]
  },
  {
   "cell_type": "code",
   "execution_count": 63,
   "metadata": {},
   "outputs": [],
   "source": [
    "df_X.to_csv('instacart_df_X_features_subset.csv', index=False)"
   ]
  },
  {
   "cell_type": "code",
   "execution_count": 4,
   "metadata": {},
   "outputs": [],
   "source": [
    "df_X = pd.read_csv('instacart_df_X_features_subset.csv')"
   ]
  },
  {
   "cell_type": "code",
   "execution_count": 9,
   "metadata": {},
   "outputs": [],
   "source": [
    "# Adding feature for consecutive orders\n",
    "\n",
    "df_consecutive_orders = df_order_products_prior[['product_id','user_id','order_number']]\n",
    "\n",
    "df_consecutive_orders = (df_consecutive_orders.merge(df_consecutive_orders, on=['user_id','product_id'])\\\n",
    "                           .sort_values(by=['user_id','order_number_x','order_number_y'], ascending=False))\n",
    "\n",
    "df_consecutive_orders = df_consecutive_orders[df_consecutive_orders['order_number_x'] - \\\n",
    "                                                  df_consecutive_orders['order_number_y'] == 1]\n",
    "\n",
    "df_consecutive_orders['ones'] = 1\n",
    "\n",
    "df_consecutive_orders = df_consecutive_orders.groupby(['product_id', 'user_id'])\\\n",
    "                                                        ['ones'].sum().reset_index()\n",
    "\n",
    "    \n",
    "df_consecutive_orders = df_consecutive_orders.rename(columns={'ones':'consecutive_reorders'})"
   ]
  },
  {
   "cell_type": "code",
   "execution_count": 10,
   "metadata": {},
   "outputs": [],
   "source": [
    "df_order_products_prior = df_order_products_prior.merge(df_consecutive_orders, on=['product_id','user_id'], how='left')"
   ]
  },
  {
   "cell_type": "code",
   "execution_count": 11,
   "metadata": {},
   "outputs": [],
   "source": [
    "user_prod_features2 = ['user_product_consecutive_reorders','user_product_total_reorders']\n",
    "\n",
    "df_user_prod_features2 = (df_order_products_prior.groupby(['product_id','user_id'],as_index=False) \\\n",
    "                                                .agg(OrderedDict(\n",
    "                                                     [('consecutive_reorders','sum'),\n",
    "                                                      ('reordered','sum')])))\n",
    "\n",
    "df_user_prod_features2.columns = ['product_id','user_id'] + user_prod_features2"
   ]
  },
  {
   "cell_type": "code",
   "execution_count": 12,
   "metadata": {},
   "outputs": [],
   "source": [
    "df_X = df_X.merge(df_user_prod_features2,on=['user_id','product_id'])\n",
    "\n",
    "df_X = df_X.fillna(-1)\n",
    "\n",
    "df_X['user_product_percent_consecutive_reorders'] = df_X['user_product_consecutive_reorders'] / \\\n",
    "                                                    df_X['user_product_total_reorders']\n",
    "    \n",
    "df_X = df_X.fillna(-1)"
   ]
  },
  {
   "cell_type": "code",
   "execution_count": 77,
   "metadata": {},
   "outputs": [
    {
     "name": "stdout",
     "output_type": "stream",
     "text": [
      "Logistic Regression F1 score 0.2283943352555804\n",
      "Random Forest F1 score 0.19861450692746538\n",
      "Logistic Regression Model best F1 score 0.391 at prob decision threshold >= 0.163\n",
      "Random Forest Regression Model best F1 score 0.379 at prob decision threshold >= 0.240\n"
     ]
    }
   ],
   "source": [
    "testing(df_X)"
   ]
  },
  {
   "cell_type": "markdown",
   "metadata": {},
   "source": [
    "Improved simple random forest"
   ]
  },
  {
   "cell_type": "code",
   "execution_count": 19,
   "metadata": {},
   "outputs": [],
   "source": [
    "df_X.to_csv('instacart_df_X_features_subset.csv', index=False)"
   ]
  },
  {
   "cell_type": "code",
   "execution_count": 57,
   "metadata": {},
   "outputs": [],
   "source": [
    "#Step by step RMSEs, with .1 learning rate:\n",
    "#best max_depth: 10 0.391\n",
    "#best subsample: 0.7 0.393\n",
    "#best min_child_weight: 10 0.394\n",
    "#best colsample_bytree: 0.8\n",
    "#With learning_rate set to 0.1\n",
    "\n",
    "X_tr, X_h, y_tr, y_h, df_tr = get_user_split_data(df_X)\n",
    "X_tr, X_te, y_tr, y_te, _ = get_user_split_data(df_tr)\n",
    "\n",
    "gbm = xgb.XGBClassifier(\n",
    "                        n_estimators=30000, #arbitrary large number\n",
    "                        max_depth=10,\n",
    "                        objective=\"binary:logistic\",\n",
    "                        learning_rate=.1, \n",
    "                        subsample=0.7,\n",
    "                        min_child_weight=10,\n",
    "                        colsample_bytree=0.8,\n",
    "                       )\n",
    "\n",
    "eval_set=[(X_tr,y_tr),(X_te,y_te)] #tracking train/validation error as we go\n",
    "fit_model = gbm.fit( \n",
    "                    X_tr, y_tr, \n",
    "                    eval_set=eval_set,\n",
    "                    eval_metric='error',\n",
    "                    early_stopping_rounds=50,\n",
    "                    verbose=False\n",
    "                   )"
   ]
  },
  {
   "cell_type": "code",
   "execution_count": 58,
   "metadata": {},
   "outputs": [
    {
     "name": "stderr",
     "output_type": "stream",
     "text": [
      "/Users/andersolson-swanson/anaconda3/lib/python3.6/site-packages/sklearn/preprocessing/label.py:151: DeprecationWarning: The truth value of an empty array is ambiguous. Returning False, but in future this will result in an error. Use `array.size > 0` to check that an array is not empty.\n",
      "  if diff:\n"
     ]
    },
    {
     "data": {
      "text/plain": [
       "0.20472505091649695"
      ]
     },
     "execution_count": 58,
     "metadata": {},
     "output_type": "execute_result"
    }
   ],
   "source": [
    "f1_score(y_te, gbm.predict(X_te, ntree_limit=gbm.best_ntree_limit)) "
   ]
  },
  {
   "cell_type": "code",
   "execution_count": 27,
   "metadata": {},
   "outputs": [],
   "source": [
    "thresh_ps = np.linspace(.10,.50,1000)"
   ]
  },
  {
   "cell_type": "code",
   "execution_count": 59,
   "metadata": {},
   "outputs": [
    {
     "name": "stdout",
     "output_type": "stream",
     "text": [
      "Boosting Model best F1 score 0.393 at prob decision threshold >= 0.194\n"
     ]
    }
   ],
   "source": [
    "model_te_probs = gbm.predict_proba(X_te, ntree_limit=gbm.best_ntree_limit)[:,1] # positive class probs, same basic logistic model we fit in section 2 \n",
    "thresh_ps = np.linspace(.10,.50,1000)\n",
    "f1_scores = []\n",
    "for p in thresh_ps:\n",
    "    model_te_labels = model_te_probs >= p\n",
    "    f1_scores.append(f1_score(model_te_labels, y_te))\n",
    "\n",
    "best_f1_score = np.max(f1_scores) \n",
    "best_thresh_p = thresh_ps[np.argmax(f1_scores)]\n",
    "\n",
    "print('Boosting Model best F1 score %.3f at prob decision threshold >= %.3f' \n",
    "      % (best_f1_score, best_thresh_p))"
   ]
  },
  {
   "cell_type": "code",
   "execution_count": 105,
   "metadata": {},
   "outputs": [],
   "source": [
    "# Adding feature for number of days since prior time product was ordered\n",
    "\n",
    "df_days_cumulative = df_order_products_prior[['user_id','order_number','days_since_prior_order']]\\\n",
    "                            .sort_values(by=['user_id','order_number'], ascending=False)\n",
    "    \n",
    "df_days_cumulative = df_days_cumulative.drop_duplicates()\n",
    "\n",
    "df_days_cumulative['cumulative_days'] = df_days_cumulative.groupby('user_id')['days_since_prior_order'].cumsum()\n",
    "\n",
    "# df_days_cumulative = df_days_cumulative.rename(columns={'order_number_x':'order_number',\n",
    "#                                                               'user_id_x':'user_id',\n",
    "#                                                               'days_since_prior_order_x':'days_since_prior_order'})\n",
    "\n",
    "\n",
    "\n",
    "\n",
    "# df_days_cumulative = df_days_cumulative.rename(columns={'days_since_prior_order_y':'cumulative_sum'})\n",
    "\n"
   ]
  },
  {
   "cell_type": "code",
   "execution_count": 106,
   "metadata": {},
   "outputs": [],
   "source": [
    "df_order_products_prior = df_order_products_prior.merge(df_days_cumulative, on=['user_id','order_number'], how='left')"
   ]
  },
  {
   "cell_type": "code",
   "execution_count": 107,
   "metadata": {},
   "outputs": [],
   "source": [
    "user_prod_features2 = ['user_product_days_since_most_recent']\n",
    "\n",
    "df_user_prod_features2 = (df_order_products_prior.groupby(['product_id','user_id'],as_index=False) \\\n",
    "                                                .agg(OrderedDict(\n",
    "                                                     [('cumulative_days','min')])))\n",
    "\n",
    "df_user_prod_features2.columns = ['product_id','user_id'] + user_prod_features2"
   ]
  },
  {
   "cell_type": "code",
   "execution_count": 111,
   "metadata": {},
   "outputs": [],
   "source": [
    "df_X = df_X.merge(df_user_prod_features2,on=['user_id','product_id'])"
   ]
  },
  {
   "cell_type": "code",
   "execution_count": 112,
   "metadata": {},
   "outputs": [],
   "source": [
    "df_X = df_X.fillna(-1)"
   ]
  },
  {
   "cell_type": "code",
   "execution_count": 115,
   "metadata": {},
   "outputs": [
    {
     "name": "stdout",
     "output_type": "stream",
     "text": [
      "Logistic Regression F1 score 0.24110872535623656\n",
      "Random Forest F1 score 0.24822805514448165\n",
      "Logistic Regression Model best F1 score 0.421 at prob decision threshold >= 0.184\n",
      "Random Forest Regression Model best F1 score 0.418 at prob decision threshold >= 0.250\n"
     ]
    }
   ],
   "source": [
    "testing(df_X)"
   ]
  },
  {
   "cell_type": "markdown",
   "metadata": {},
   "source": [
    "Huge improvement!"
   ]
  },
  {
   "cell_type": "code",
   "execution_count": 126,
   "metadata": {},
   "outputs": [
    {
     "data": {
      "text/plain": [
       "LogisticRegression(C=1.0, class_weight=None, dual=False, fit_intercept=True,\n",
       "          intercept_scaling=1, max_iter=100, multi_class='ovr', n_jobs=1,\n",
       "          penalty='l2', random_state=None, solver='liblinear', tol=0.0001,\n",
       "          verbose=0, warm_start=False)"
      ]
     },
     "execution_count": 126,
     "metadata": {},
     "output_type": "execute_result"
    }
   ],
   "source": [
    "X_tr, X_h, y_tr, y_h, df_tr = get_user_split_data(df_X)\n",
    "X_tr, X_te, y_tr, y_te, _ = get_user_split_data(df_tr)\n",
    "\n",
    "scale = StandardScaler()\n",
    "X_tr_scaled = scale.fit_transform(X_tr)\n",
    "X_te_scaled = scale.transform(X_te)\n",
    "\n",
    "lr = LogisticRegression()\n",
    "lr.fit(X_tr_scaled, y_tr)"
   ]
  },
  {
   "cell_type": "code",
   "execution_count": 129,
   "metadata": {},
   "outputs": [],
   "source": [
    "df_X.to_csv('instacart_df_X_features_subset.csv', index=False)"
   ]
  },
  {
   "cell_type": "markdown",
   "metadata": {},
   "source": [
    "### Try using median instead of -1 for NAs and see if results change"
   ]
  },
  {
   "cell_type": "code",
   "execution_count": 135,
   "metadata": {
    "scrolled": true
   },
   "outputs": [
    {
     "name": "stdout",
     "output_type": "stream",
     "text": [
      "Logistic Regression F1 score 0.24110872535623656\n",
      "Random Forest F1 score 0.24822805514448165\n",
      "Logistic Regression Model best F1 score 0.421 at prob decision threshold >= 0.184\n",
      "Random Forest Regression Model best F1 score 0.418 at prob decision threshold >= 0.250\n"
     ]
    }
   ],
   "source": [
    "df_X_logistic = df_X.replace(to_replace=-1, value=np.nan)\n",
    "\n",
    "df_X_logistic = df_X_logistic.fillna(df_X_logistic.median())\n",
    "\n",
    "testing(df_X_logistic)"
   ]
  },
  {
   "cell_type": "markdown",
   "metadata": {},
   "source": [
    "They don't change. I'll stick with -1"
   ]
  },
  {
   "cell_type": "markdown",
   "metadata": {},
   "source": [
    "# Add another user-product feature"
   ]
  },
  {
   "cell_type": "code",
   "execution_count": 137,
   "metadata": {},
   "outputs": [],
   "source": [
    "df_X['user_product_reordered_percentage'] = df_X['user_product_total_reorders'] / df_X['user_product_total_orders']"
   ]
  },
  {
   "cell_type": "code",
   "execution_count": 139,
   "metadata": {},
   "outputs": [
    {
     "name": "stdout",
     "output_type": "stream",
     "text": [
      "Logistic Regression F1 score 0.23529411764705882\n",
      "Random Forest F1 score 0.24854702188243558\n",
      "Logistic Regression Model best F1 score 0.420 at prob decision threshold >= 0.203\n",
      "Random Forest Regression Model best F1 score 0.417 at prob decision threshold >= 0.220\n"
     ]
    }
   ],
   "source": [
    "testing(df_X)"
   ]
  },
  {
   "cell_type": "markdown",
   "metadata": {},
   "source": [
    "Makes the model worse"
   ]
  },
  {
   "cell_type": "code",
   "execution_count": 140,
   "metadata": {},
   "outputs": [],
   "source": [
    "df_X = df_X.drop(columns='user_product_reordered_percentage')"
   ]
  },
  {
   "cell_type": "markdown",
   "metadata": {},
   "source": [
    "# Adding additional product features"
   ]
  },
  {
   "cell_type": "code",
   "execution_count": 141,
   "metadata": {},
   "outputs": [],
   "source": [
    "df_X2 = df_X.merge(df_products, on='product_id')"
   ]
  },
  {
   "cell_type": "code",
   "execution_count": 142,
   "metadata": {},
   "outputs": [],
   "source": [
    "df_X2 = df_X2.drop(columns=['product_name', 'aisle_id', 'department_id'])"
   ]
  },
  {
   "cell_type": "code",
   "execution_count": 143,
   "metadata": {},
   "outputs": [],
   "source": [
    "df_X2 = df_X2.drop(columns=['department', 'category'])\n",
    "df_X2 = pd.get_dummies(df_X2, columns=['aisle'])"
   ]
  },
  {
   "cell_type": "code",
   "execution_count": 145,
   "metadata": {},
   "outputs": [
    {
     "name": "stdout",
     "output_type": "stream",
     "text": [
      "Logistic Regression F1 score 0.24114638241380656\n",
      "Random Forest F1 score 0.2275108995640174\n",
      "Logistic Regression Model best F1 score 0.420 at prob decision threshold >= 0.196\n",
      "Random Forest Regression Model best F1 score 0.418 at prob decision threshold >= 0.220\n"
     ]
    }
   ],
   "source": [
    "X_tr, X_h, y_tr, y_h, df_tr = get_user_split_data(df_X2)\n",
    "X_tr, X_te, y_tr, y_te, _ = get_user_split_data(df_tr)\n",
    "\n",
    "scale = StandardScaler()\n",
    "X_tr_scaled = scale.fit_transform(X_tr)\n",
    "X_te_scaled = scale.transform(X_te)\n",
    "\n",
    "lr = LogisticRegression()\n",
    "lr.fit(X_tr_scaled, y_tr)\n",
    "print('Logistic Regression F1 score', f1_score(lr.predict(X_te_scaled), y_te))\n",
    "\n",
    "rf = RandomForestClassifier(n_estimators=100,random_state=42)\n",
    "rf.fit(X_tr, y_tr)\n",
    "print('Random Forest F1 score', f1_score(rf.predict(X_te), y_te))\n",
    "\n",
    "thresh_ps = np.linspace(.10,.50,1000)\n",
    "\n",
    "model_te_probs = lr.predict_proba(X_te_scaled)[:,1] # positive class probs, same basic logistic model we fit in section 2 \n",
    "\n",
    "f1_scores = []\n",
    "for p in thresh_ps:\n",
    "    model_te_labels = model_te_probs >= p\n",
    "    f1_scores.append(f1_score(model_te_labels, y_te))\n",
    "    \n",
    "best_f1_score = np.max(f1_scores) \n",
    "best_thresh_p = thresh_ps[np.argmax(f1_scores)]\n",
    "\n",
    "print('Logistic Regression Model best F1 score %.3f at prob decision threshold >= %.3f' \n",
    "      % (best_f1_score, best_thresh_p))\n",
    "\n",
    "\n",
    "model_te_probs = rf.predict_proba(X_te)[:,1] # positive class probs, same basic logistic model we fit in section 2 \n",
    "\n",
    "f1_scores = []\n",
    "for p in thresh_ps:\n",
    "    model_te_labels = model_te_probs >= p\n",
    "    f1_scores.append(f1_score(model_te_labels, y_te))\n",
    "    \n",
    "best_f1_score = np.max(f1_scores) \n",
    "best_thresh_p = thresh_ps[np.argmax(f1_scores)]\n",
    "\n",
    "print('Random Forest Regression Model best F1 score %.3f at prob decision threshold >= %.3f' \n",
    "      % (best_f1_score, best_thresh_p))"
   ]
  },
  {
   "cell_type": "markdown",
   "metadata": {},
   "source": [
    "Random forest stays the same"
   ]
  },
  {
   "cell_type": "code",
   "execution_count": 157,
   "metadata": {},
   "outputs": [],
   "source": [
    "df_X2 = df_X.merge(df_products, on='product_id')\n",
    "df_X2 = df_X2.drop(columns=['product_name', 'aisle_id', 'department_id','category'])\n",
    "df_X2 = pd.get_dummies(df_X2, columns=['aisle','department'])"
   ]
  },
  {
   "cell_type": "code",
   "execution_count": 158,
   "metadata": {},
   "outputs": [
    {
     "name": "stdout",
     "output_type": "stream",
     "text": [
      "Logistic Regression F1 score 0.24114638241380656\n",
      "Random Forest F1 score 0.22646493756003844\n",
      "Logistic Regression Model best F1 score 0.420 at prob decision threshold >= 0.196\n",
      "Random Forest Regression Model best F1 score 0.419 at prob decision threshold >= 0.230\n"
     ]
    }
   ],
   "source": [
    "X_tr, X_h, y_tr, y_h, df_tr = get_user_split_data(df_X2)\n",
    "X_tr, X_te, y_tr, y_te, _ = get_user_split_data(df_tr)\n",
    "\n",
    "scale = StandardScaler()\n",
    "X_tr_scaled = scale.fit_transform(X_tr)\n",
    "X_te_scaled = scale.transform(X_te)\n",
    "\n",
    "lr = LogisticRegression()\n",
    "lr.fit(X_tr_scaled, y_tr)\n",
    "print('Logistic Regression F1 score', f1_score(lr.predict(X_te_scaled), y_te))\n",
    "\n",
    "rf = RandomForestClassifier(n_estimators=100,random_state=42)\n",
    "rf.fit(X_tr, y_tr)\n",
    "print('Random Forest F1 score', f1_score(rf.predict(X_te), y_te))\n",
    "\n",
    "thresh_ps = np.linspace(.10,.50,1000)\n",
    "\n",
    "model_te_probs = lr.predict_proba(X_te_scaled)[:,1] # positive class probs, same basic logistic model we fit in section 2 \n",
    "\n",
    "f1_scores = []\n",
    "for p in thresh_ps:\n",
    "    model_te_labels = model_te_probs >= p\n",
    "    f1_scores.append(f1_score(model_te_labels, y_te))\n",
    "    \n",
    "best_f1_score = np.max(f1_scores) \n",
    "best_thresh_p = thresh_ps[np.argmax(f1_scores)]\n",
    "\n",
    "print('Logistic Regression Model best F1 score %.3f at prob decision threshold >= %.3f' \n",
    "      % (best_f1_score, best_thresh_p))\n",
    "\n",
    "\n",
    "model_te_probs = rf.predict_proba(X_te)[:,1] # positive class probs, same basic logistic model we fit in section 2 \n",
    "\n",
    "f1_scores = []\n",
    "for p in thresh_ps:\n",
    "    model_te_labels = model_te_probs >= p\n",
    "    f1_scores.append(f1_score(model_te_labels, y_te))\n",
    "    \n",
    "best_f1_score = np.max(f1_scores) \n",
    "best_thresh_p = thresh_ps[np.argmax(f1_scores)]\n",
    "\n",
    "print('Random Forest Regression Model best F1 score %.3f at prob decision threshold >= %.3f' \n",
    "      % (best_f1_score, best_thresh_p))"
   ]
  },
  {
   "cell_type": "markdown",
   "metadata": {},
   "source": [
    "Improved random forest"
   ]
  },
  {
   "cell_type": "code",
   "execution_count": 159,
   "metadata": {},
   "outputs": [],
   "source": [
    "df_X.to_csv('instacart_df_X_features_subset.csv', index=False)\n",
    "df_X2.to_csv('instacart_df_X2_features_subset.csv', index=False)"
   ]
  },
  {
   "cell_type": "code",
   "execution_count": 199,
   "metadata": {},
   "outputs": [],
   "source": [
    "df_X2 = pd.read_csv('instacart_df_X2_features_subset.csv')"
   ]
  },
  {
   "cell_type": "markdown",
   "metadata": {},
   "source": [
    "# Adding features for 3 most recent orders"
   ]
  },
  {
   "cell_type": "code",
   "execution_count": 164,
   "metadata": {},
   "outputs": [],
   "source": [
    "df_max_order_user = (df_order_products_prior.groupby(['user_id'],as_index=False)\n",
    "                                           .agg(OrderedDict(\n",
    "                                                   [('order_number','max')])))"
   ]
  },
  {
   "cell_type": "code",
   "execution_count": 166,
   "metadata": {},
   "outputs": [],
   "source": [
    "df_orders_user = (df_order_products_prior.groupby(['user_id','order_number'],as_index=False)\n",
    "                                           .agg(OrderedDict(\n",
    "                                                   [('product_id','count')])))\n",
    "\n",
    "df_orders_user = df_orders_user.drop(columns='product_id')"
   ]
  },
  {
   "cell_type": "code",
   "execution_count": 167,
   "metadata": {},
   "outputs": [],
   "source": [
    "df_orders_user = df_orders_user.merge(df_max_order_user, on='user_id')"
   ]
  },
  {
   "cell_type": "code",
   "execution_count": 171,
   "metadata": {},
   "outputs": [],
   "source": [
    "df_recent_orders = df_orders_user[df_orders_user['order_number_y'] - df_orders_user['order_number_x'] < 3]\n",
    "df_recent_orders = df_recent_orders.drop(columns='order_number_y')\n",
    "df_recent_orders = df_recent_orders.rename(columns={'order_number_x':'order_number'})"
   ]
  },
  {
   "cell_type": "code",
   "execution_count": 173,
   "metadata": {},
   "outputs": [],
   "source": [
    "df_order_products_prior_recent = df_order_products_prior.merge(df_recent_orders, on=['user_id','order_number'])"
   ]
  },
  {
   "cell_type": "code",
   "execution_count": 200,
   "metadata": {},
   "outputs": [],
   "source": [
    "prod_features = ['product_total_orders_recent','product_avg_add_to_cart_order_recent','product_avg_order_number_recent'\\\n",
    "                 ,'product_avg_dow_recent',\\\n",
    "                'product_avg_hour_of_day_recent','product_total_times_reordered_recent','product_reordered_rate_recent']\n",
    "\n",
    "df_prod_features = (df_order_products_prior_recent.groupby(['product_id'],as_index=False)\n",
    "                                           .agg(OrderedDict(\n",
    "                                                   [('order_id','nunique'),\n",
    "                                                    ('add_to_cart_order','mean'),\n",
    "                                                    ('order_number', 'mean'),\n",
    "                                                    ('order_dow', 'mean'),\n",
    "                                                    ('order_hour_of_day', 'mean'),\n",
    "                                                    ('reordered', ['sum','mean'])])))\n",
    "df_prod_features.columns = ['product_id'] + prod_features\n",
    "\n",
    "df_X = df_X.merge(df_prod_features, on='product_id', how='left')\n",
    "df_X2 = df_X2.merge(df_prod_features, on='product_id', how='left')\n",
    "\n",
    "df_X = df_X.fillna(-1)\n",
    "df_X2 = df_X2.fillna(-1)"
   ]
  },
  {
   "cell_type": "code",
   "execution_count": 201,
   "metadata": {},
   "outputs": [
    {
     "name": "stdout",
     "output_type": "stream",
     "text": [
      "Logistic Regression F1 score 0.263811890651883\n",
      "Random Forest F1 score 0.2569508804448563\n",
      "Logistic Regression Model best F1 score 0.429 at prob decision threshold >= 0.186\n",
      "Random Forest Regression Model best F1 score 0.422 at prob decision threshold >= 0.240\n"
     ]
    }
   ],
   "source": [
    "testing(df_X)\n",
    "testing(df_X2)"
   ]
  },
  {
   "cell_type": "code",
   "execution_count": 178,
   "metadata": {},
   "outputs": [],
   "source": [
    "df_X = df_X.drop(columns=['product_total_orders_recent','product_avg_add_to_cart_order_recent',\\\n",
    "                          'product_avg_order_number_recent','product_avg_dow_recent','product_avg_hour_of_day_recent',\\\n",
    "                          'product_total_times_reordered_recent','product_reordered_rate_recent'])"
   ]
  },
  {
   "cell_type": "code",
   "execution_count": 203,
   "metadata": {},
   "outputs": [],
   "source": [
    "user_features = ['user_total_orders_recent','user_avg_cartsize_recent','user_total_products_recent',\\\n",
    "                 'user_avg_days_since_prior_order_recent','user_avg_dow_recent','user_avg_hour_of_day_recent',\\\n",
    "                 'user_total_reordered_recent','user_reordered_percentage_recent']\n",
    "\n",
    "df_user_features = (df_order_products_prior_recent.groupby(['user_id'],as_index=False)\n",
    "                                           .agg(OrderedDict(\n",
    "                                                   [('order_id',['nunique', (lambda x: x.shape[0] / x.nunique())]),\n",
    "                                                    ('product_id','nunique'),\n",
    "                                                    ('days_since_prior_order_x','mean'),\n",
    "                                                    ('order_dow', 'mean'),\n",
    "                                                    ('order_hour_of_day', 'mean'),\n",
    "                                                    ('reordered', ['sum','mean'])])))\n",
    "\n",
    "df_user_features.columns = ['user_id'] + user_features\n",
    "df_user_features['user_avg_reordered_recent'] = df_user_features['user_avg_cartsize_recent'] * \\\n",
    "                        df_user_features['user_reordered_percentage_recent']\n",
    "\n",
    "df_X = df_X.merge(df_user_features, on='user_id', how='left')\n",
    "df_X2 = df_X2.merge(df_user_features, on='user_id', how='left')\n",
    "\n",
    "df_X = df_X.fillna(-1)\n",
    "df_X2 = df_X2.fillna(-1)"
   ]
  },
  {
   "cell_type": "code",
   "execution_count": 204,
   "metadata": {},
   "outputs": [
    {
     "name": "stdout",
     "output_type": "stream",
     "text": [
      "Logistic Regression F1 score 0.263811890651883\n",
      "Random Forest F1 score 0.2569508804448563\n",
      "Logistic Regression Model best F1 score 0.429 at prob decision threshold >= 0.186\n",
      "Random Forest Regression Model best F1 score 0.422 at prob decision threshold >= 0.240\n"
     ]
    }
   ],
   "source": [
    "testing(df_X)\n",
    "testing(df_X2)"
   ]
  },
  {
   "cell_type": "code",
   "execution_count": 205,
   "metadata": {},
   "outputs": [],
   "source": [
    "df_X = df_X.drop(columns=['user_avg_cartsize_recent','user_total_products_recent',\\\n",
    "                 'user_avg_days_since_prior_order_recent','user_avg_dow_recent','user_avg_hour_of_day_recent',\\\n",
    "                 'user_total_reordered_recent','user_reordered_percentage_recent','user_avg_reordered_recent'])\n",
    "\n",
    "df_X2 = df_X2.drop(columns=['user_avg_cartsize_recent','user_total_products_recent',\\\n",
    "                 'user_avg_days_since_prior_order_recent','user_avg_dow_recent','user_avg_hour_of_day_recent',\\\n",
    "                 'user_total_reordered_recent','user_reordered_percentage_recent','user_avg_reordered_recent'])"
   ]
  },
  {
   "cell_type": "code",
   "execution_count": 206,
   "metadata": {},
   "outputs": [],
   "source": [
    "user_prod_features = ['user_product_total_orders_recent','user_product_avg_add_to_cart_order_recent',\\\n",
    "                      'user_product_avg_order_dow_recent',\\\n",
    "                      'user_product_avg_order_hour_of_day_recent','user_product_avg_days_since_prior_order_recent']\n",
    "\n",
    "df_user_prod_features = (df_order_products_prior_recent.groupby(['product_id','user_id'],as_index=False) \\\n",
    "                                                .agg(OrderedDict(\n",
    "                                                     [('order_id','count'),\n",
    "                                                      ('add_to_cart_order','mean'),\n",
    "                                                      ('order_dow', 'mean'),\n",
    "                                                      ('order_hour_of_day', 'mean'),\n",
    "                                                      ('days_since_prior_order_x', 'mean')])))\n",
    "\n",
    "df_user_prod_features.columns = ['product_id','user_id'] + user_prod_features \n",
    "\n",
    "df_X = df_X.merge(df_user_prod_features,on=['user_id','product_id'], how='left')\n",
    "df_X2 = df_X2.merge(df_user_prod_features,on=['user_id','product_id'], how='left')\n",
    "\n",
    "df_X['user_product_order_freq_recent'] = df_X['user_product_total_orders_recent'] / df_X['user_total_orders_recent'] \n",
    "df_X2['user_product_order_freq_recent'] = df_X2['user_product_total_orders_recent'] / df_X2['user_total_orders_recent'] \n",
    "\n",
    "df_X = df_X.fillna(-1)\n",
    "df_X2 = df_X2.fillna(-1)"
   ]
  },
  {
   "cell_type": "code",
   "execution_count": 207,
   "metadata": {},
   "outputs": [
    {
     "name": "stdout",
     "output_type": "stream",
     "text": [
      "Logistic Regression F1 score 0.263811890651883\n",
      "Random Forest F1 score 0.2569508804448563\n",
      "Logistic Regression Model best F1 score 0.429 at prob decision threshold >= 0.186\n",
      "Random Forest Regression Model best F1 score 0.422 at prob decision threshold >= 0.240\n",
      "Logistic Regression F1 score 0.263811890651883\n",
      "Random Forest F1 score 0.2569508804448563\n",
      "Logistic Regression Model best F1 score 0.429 at prob decision threshold >= 0.186\n",
      "Random Forest Regression Model best F1 score 0.422 at prob decision threshold >= 0.240\n"
     ]
    }
   ],
   "source": [
    "testing(df_X)\n",
    "testing(df_X2)"
   ]
  },
  {
   "cell_type": "markdown",
   "metadata": {},
   "source": [
    "Another improvement for df_X!"
   ]
  },
  {
   "cell_type": "code",
   "execution_count": 208,
   "metadata": {},
   "outputs": [],
   "source": [
    "df_X.to_csv('instacart_df_X_features_subset.csv', index=False)\n",
    "df_X2.to_csv('instacart_df_X2_features_subset.csv', index=False)"
   ]
  },
  {
   "cell_type": "code",
   "execution_count": 1,
   "metadata": {},
   "outputs": [
    {
     "ename": "NameError",
     "evalue": "name 'df_X' is not defined",
     "output_type": "error",
     "traceback": [
      "\u001b[0;31m---------------------------------------------------------------------------\u001b[0m",
      "\u001b[0;31mNameError\u001b[0m                                 Traceback (most recent call last)",
      "\u001b[0;32m<ipython-input-1-ae4d390b205f>\u001b[0m in \u001b[0;36m<module>\u001b[0;34m()\u001b[0m\n\u001b[0;32m----> 1\u001b[0;31m \u001b[0mdf_X\u001b[0m\u001b[0;34m.\u001b[0m\u001b[0minfo\u001b[0m\u001b[0;34m(\u001b[0m\u001b[0;34m)\u001b[0m\u001b[0;34m\u001b[0m\u001b[0m\n\u001b[0m",
      "\u001b[0;31mNameError\u001b[0m: name 'df_X' is not defined"
     ]
    }
   ],
   "source": [
    "df_X.info()"
   ]
  },
  {
   "cell_type": "code",
   "execution_count": null,
   "metadata": {},
   "outputs": [],
   "source": []
  }
 ],
 "metadata": {
  "kernelspec": {
   "display_name": "Python 3",
   "language": "python",
   "name": "python3"
  },
  "language_info": {
   "codemirror_mode": {
    "name": "ipython",
    "version": 3
   },
   "file_extension": ".py",
   "mimetype": "text/x-python",
   "name": "python",
   "nbconvert_exporter": "python",
   "pygments_lexer": "ipython3",
   "version": "3.6.4"
  }
 },
 "nbformat": 4,
 "nbformat_minor": 2
}
