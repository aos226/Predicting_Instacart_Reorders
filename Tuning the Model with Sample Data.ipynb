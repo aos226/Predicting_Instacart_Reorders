{
 "cells": [
  {
   "cell_type": "code",
   "execution_count": 3,
   "metadata": {},
   "outputs": [],
   "source": [
    "import numpy as np\n",
    "from sqlalchemy import create_engine\n",
    "import pandas as pd\n",
    "import pickle\n",
    "from sklearn.model_selection import train_test_split\n",
    "from sklearn.preprocessing import StandardScaler\n",
    "from sklearn.linear_model import LogisticRegression\n",
    "from sklearn.metrics import f1_score\n",
    "from sklearn.ensemble import RandomForestClassifier\n",
    "from collections import OrderedDict\n",
    "import imblearn.over_sampling\n",
    "from sklearn.metrics import roc_auc_score\n",
    "import xgboost as xgb\n",
    "\n",
    "import matplotlib.pyplot as plt\n",
    "%matplotlib inline\n",
    "import seaborn as sns\n",
    "sns.set()"
   ]
  },
  {
   "cell_type": "code",
   "execution_count": 4,
   "metadata": {},
   "outputs": [],
   "source": [
    "df_X = pd.read_csv('instacart_df_X_features_subset.csv')\n",
    "# df_X2 = pd.read_csv('instacart_df_X2_features_subset.csv')"
   ]
  },
  {
   "cell_type": "code",
   "execution_count": 5,
   "metadata": {},
   "outputs": [
    {
     "name": "stdout",
     "output_type": "stream",
     "text": [
      "<class 'pandas.core.frame.DataFrame'>\n",
      "RangeIndex: 1298523 entries, 0 to 1298522\n",
      "Data columns (total 42 columns):\n",
      "Unnamed: 0                                        1298523 non-null int64\n",
      "product_id                                        1298523 non-null int64\n",
      "user_id                                           1298523 non-null int64\n",
      "user_product_total_orders                         1298523 non-null int64\n",
      "latest_cart                                       1298523 non-null object\n",
      "in_cart                                           1298523 non-null int64\n",
      "product_total_orders                              1298523 non-null int64\n",
      "product_avg_add_to_cart_order                     1298523 non-null float64\n",
      "product_avg_order_number                          1298523 non-null float64\n",
      "product_avg_dow                                   1298523 non-null float64\n",
      "product_avg_hour_of_day                           1298523 non-null float64\n",
      "product_total_times_reordered                     1298523 non-null int64\n",
      "product_reordered_rate                            1298523 non-null float64\n",
      "user_total_orders                                 1298523 non-null int64\n",
      "user_avg_cartsize                                 1298523 non-null float64\n",
      "user_total_products                               1298523 non-null int64\n",
      "user_avg_days_since_prior_order                   1298523 non-null float64\n",
      "user_avg_dow                                      1298523 non-null float64\n",
      "user_avg_hour_of_day                              1298523 non-null float64\n",
      "user_total_reordered                              1298523 non-null int64\n",
      "user_reordered_percentage                         1298523 non-null float64\n",
      "user_avg_reordered                                1298523 non-null float64\n",
      "user_product_avg_add_to_cart_order                1298523 non-null float64\n",
      "user_product_avg_order_dow                        1298523 non-null float64\n",
      "user_product_avg_order_hour_of_day                1298523 non-null float64\n",
      "user_product_avg_days_since_prior_order           1298523 non-null float64\n",
      "user_product_order_freq                           1298523 non-null float64\n",
      "user_product_orders_since_prior                   1298523 non-null float64\n",
      "user_product_orders_since_prior_department        1298523 non-null float64\n",
      "product_avg_dow_delta                             1298523 non-null float64\n",
      "product_avg_hod_delta                             1298523 non-null float64\n",
      "user_product_consecutive_reorders                 1298523 non-null float64\n",
      "user_product_total_reorders                       1298523 non-null int64\n",
      "user_product_percent_consecutive_reorders         1298523 non-null float64\n",
      "user_product_days_since_most_recent               1298523 non-null float64\n",
      "user_total_orders_recent                          1298523 non-null int64\n",
      "user_product_avg_add_to_cart_order_recent         1298523 non-null float64\n",
      "user_product_avg_order_dow_recent                 1298523 non-null float64\n",
      "user_product_avg_order_hour_of_day_recent         1298523 non-null float64\n",
      "user_product_avg_days_since_prior_order_recent    1298523 non-null float64\n",
      "user_product_total_orders_recent                  1298523 non-null float64\n",
      "user_product_order_freq_recent                    1298523 non-null float64\n",
      "dtypes: float64(29), int64(12), object(1)\n",
      "memory usage: 416.1+ MB\n"
     ]
    }
   ],
   "source": [
    "df_X.info()"
   ]
  },
  {
   "cell_type": "code",
   "execution_count": 3,
   "metadata": {},
   "outputs": [],
   "source": [
    "def get_user_split_data(df, test_size=.2, seed=42):\n",
    "\n",
    "    rs = np.random.RandomState(seed)\n",
    "    \n",
    "    total_users = df['user_id'].unique() \n",
    "    test_users = rs.choice(total_users, \n",
    "                           size=int(total_users.shape[0] * test_size), \n",
    "                           replace=False)\n",
    "\n",
    "    df_tr = df[~df['user_id'].isin(test_users)]\n",
    "    df_te = df[df['user_id'].isin(test_users)] \n",
    "\n",
    "    y_tr, y_te = df_tr['in_cart'], df_te['in_cart']\n",
    "    X_tr = df_tr.drop(['product_id','user_id','latest_cart','in_cart'],axis=1) \n",
    "    X_te = df_te.drop(['product_id','user_id','latest_cart','in_cart'],axis=1)\n",
    "\n",
    "    return X_tr, X_te, y_tr, y_te, df_tr"
   ]
  },
  {
   "cell_type": "code",
   "execution_count": 6,
   "metadata": {},
   "outputs": [],
   "source": [
    "def testing_logistic(df, seed=42):\n",
    "    X_tr, X_h, y_tr, y_h, df_tr = get_user_split_data(df_X, seed=seed)\n",
    "    X_tr, X_te, y_tr, y_te, _ = get_user_split_data(df_tr, seed=seed)\n",
    "\n",
    "    scale = StandardScaler()\n",
    "    X_tr_scaled = scale.fit_transform(X_tr)\n",
    "    X_te_scaled = scale.transform(X_te)\n",
    "\n",
    "    lr = LogisticRegression()\n",
    "    lr.fit(X_tr_scaled, y_tr)\n",
    "    print('Logistic Regression F1 score', f1_score(lr.predict(X_te_scaled), y_te))\n",
    "\n",
    "    thresh_ps = np.linspace(.10,.50,1000)\n",
    "    \n",
    "    model_te_probs = lr.predict_proba(X_te_scaled)[:,1] # positive class probs, same basic logistic model we fit in section 2 \n",
    "\n",
    "    f1_scores = []\n",
    "    for p in thresh_ps:\n",
    "        model_te_labels = model_te_probs >= p\n",
    "        f1_scores.append(f1_score(model_te_labels, y_te))\n",
    "\n",
    "    best_f1_score = np.max(f1_scores) \n",
    "    best_thresh_p = thresh_ps[np.argmax(f1_scores)]\n",
    "\n",
    "    print('Logistic Regression Model best F1 score %.3f at prob decision threshold >= %.3f' \n",
    "          % (best_f1_score, best_thresh_p))"
   ]
  },
  {
   "cell_type": "code",
   "execution_count": 5,
   "metadata": {},
   "outputs": [],
   "source": [
    "def testing_random_forest(df, seed=42, n_estimators=100):\n",
    "    X_tr, X_h, y_tr, y_h, df_tr = get_user_split_data(df_X, seed=seed)\n",
    "    X_tr, X_te, y_tr, y_te, _ = get_user_split_data(df_tr, seed=seed)\n",
    "\n",
    "    rf = RandomForestClassifier(n_estimators=n_estimators,random_state=seed,n_jobs=-1)\n",
    "    rf.fit(X_tr, y_tr)\n",
    "    print('Random Forest F1 score', f1_score(rf.predict(X_te), y_te))\n",
    "\n",
    "    thresh_ps = np.linspace(.10,.50,1000)\n",
    "    \n",
    "\n",
    "    model_te_probs = rf.predict_proba(X_te)[:,1] # positive class probs, same basic logistic model we fit in section 2 \n",
    "\n",
    "    f1_scores = []\n",
    "    for p in thresh_ps:\n",
    "        model_te_labels = model_te_probs >= p\n",
    "        f1_scores.append(f1_score(model_te_labels, y_te))\n",
    "\n",
    "    best_f1_score = np.max(f1_scores) \n",
    "    best_thresh_p = thresh_ps[np.argmax(f1_scores)]\n",
    "\n",
    "    print('Random Forest Regression Model best F1 score %.3f at prob decision threshold >= %.3f' \n",
    "          % (best_f1_score, best_thresh_p))"
   ]
  },
  {
   "cell_type": "code",
   "execution_count": 29,
   "metadata": {},
   "outputs": [
    {
     "name": "stdout",
     "output_type": "stream",
     "text": [
      "Logistic Regression F1 score 0.263811890651883\n",
      "Logistic Regression Model best F1 score 0.429 at prob decision threshold >= 0.186\n",
      "Logistic Regression F1 score 0.263811890651883\n",
      "Logistic Regression Model best F1 score 0.429 at prob decision threshold >= 0.186\n"
     ]
    }
   ],
   "source": [
    "testing_logistic(df_X)\n",
    "testing_logistic(df_X2)"
   ]
  },
  {
   "cell_type": "code",
   "execution_count": 30,
   "metadata": {},
   "outputs": [
    {
     "name": "stdout",
     "output_type": "stream",
     "text": [
      "Random Forest F1 score 0.2569508804448563\n",
      "Random Forest Regression Model best F1 score 0.422 at prob decision threshold >= 0.240\n",
      "Random Forest F1 score 0.2569508804448563\n",
      "Random Forest Regression Model best F1 score 0.422 at prob decision threshold >= 0.240\n"
     ]
    }
   ],
   "source": [
    "testing_random_forest(df_X)\n",
    "testing_random_forest(df_X2)"
   ]
  },
  {
   "cell_type": "code",
   "execution_count": 31,
   "metadata": {},
   "outputs": [
    {
     "name": "stdout",
     "output_type": "stream",
     "text": [
      "Random Forest F1 score 0.2598276061999923\n",
      "Random Forest Regression Model best F1 score 0.424 at prob decision threshold >= 0.240\n",
      "Random Forest F1 score 0.2598276061999923\n",
      "Random Forest Regression Model best F1 score 0.424 at prob decision threshold >= 0.240\n"
     ]
    }
   ],
   "source": [
    "testing_random_forest(df_X, n_estimators=200)\n",
    "testing_random_forest(df_X2, n_estimators=200)"
   ]
  },
  {
   "cell_type": "code",
   "execution_count": 134,
   "metadata": {},
   "outputs": [
    {
     "name": "stderr",
     "output_type": "stream",
     "text": [
      "/Users/andersolson-swanson/anaconda3/lib/python3.6/site-packages/sklearn/preprocessing/label.py:151: DeprecationWarning: The truth value of an empty array is ambiguous. Returning False, but in future this will result in an error. Use `array.size > 0` to check that an array is not empty.\n",
      "  if diff:\n"
     ]
    },
    {
     "data": {
      "text/plain": [
       "0.2744513267569014"
      ]
     },
     "execution_count": 134,
     "metadata": {},
     "output_type": "execute_result"
    }
   ],
   "source": [
    "#Step by step RMSEs, with .1 learning rate:\n",
    "#best max_depth: 8 0.438\n",
    "#best subsample: 0.7 0.438\n",
    "#best min_child_weight: 10 0.438\n",
    "#best colsample_bytree: 0.8 0.438\n",
    "#With learning_rate set to 0.1 0.438\n",
    "\n",
    "X_tr, X_h, y_tr, y_h, df_tr = get_user_split_data(df_X)\n",
    "X_tr, X_te, y_tr, y_te, _ = get_user_split_data(df_tr)\n",
    "\n",
    "gbm = xgb.XGBClassifier(\n",
    "                        n_estimators=30000, #arbitrary large number\n",
    "                        max_depth=8,\n",
    "                        objective=\"binary:logistic\",\n",
    "                        learning_rate=.1, \n",
    "                        subsample=0.7,\n",
    "                        min_child_weight=10,\n",
    "                        colsample_bytree=0.8,\n",
    "                       )\n",
    "\n",
    "eval_set=[(X_tr,y_tr),(X_te,y_te)] #tracking train/validation error as we go\n",
    "fit_model = gbm.fit( \n",
    "                    X_tr, y_tr, \n",
    "                    eval_set=eval_set,\n",
    "                    eval_metric='error',\n",
    "                    early_stopping_rounds=50,\n",
    "                    verbose=False\n",
    "                   )\n",
    "\n",
    "f1_score(y_te, gbm.predict(X_te, ntree_limit=gbm.best_ntree_limit)) "
   ]
  },
  {
   "cell_type": "code",
   "execution_count": 135,
   "metadata": {},
   "outputs": [
    {
     "name": "stdout",
     "output_type": "stream",
     "text": [
      "Boosting Model best F1 score 0.436 at prob decision threshold >= 0.201\n"
     ]
    }
   ],
   "source": [
    "model_te_probs = gbm.predict_proba(X_te, ntree_limit=gbm.best_ntree_limit)[:,1] # positive class probs, same basic logistic model we fit in section 2 \n",
    "thresh_ps = np.linspace(.10,.50,1000)\n",
    "f1_scores = []\n",
    "for p in thresh_ps:\n",
    "    model_te_labels = model_te_probs >= p\n",
    "    f1_scores.append(f1_score(model_te_labels, y_te))\n",
    "\n",
    "best_f1_score = np.max(f1_scores) \n",
    "best_thresh_p = thresh_ps[np.argmax(f1_scores)]\n",
    "\n",
    "print('Boosting Model best F1 score %.3f at prob decision threshold >= %.3f' \n",
    "      % (best_f1_score, best_thresh_p))"
   ]
  },
  {
   "cell_type": "markdown",
   "metadata": {},
   "source": [
    "# Score against my holdout"
   ]
  },
  {
   "cell_type": "code",
   "execution_count": 137,
   "metadata": {},
   "outputs": [
    {
     "data": {
      "text/plain": [
       "0.43046632468416424"
      ]
     },
     "execution_count": 137,
     "metadata": {},
     "output_type": "execute_result"
    }
   ],
   "source": [
    "model_h_probs = gbm.predict_proba(X_h, ntree_limit=gbm.best_ntree_limit)[:,1] # positive class probs, same basic logistic model we fit in section 2 \n",
    "model_h_labels = model_h_probs >= 0.201\n",
    "f1_score(model_h_labels, y_h)"
   ]
  },
  {
   "cell_type": "code",
   "execution_count": 138,
   "metadata": {},
   "outputs": [],
   "source": [
    "with open('gbm_seed42.pkl', 'wb') as picklefile:\n",
    "    pickle.dump(gbm, picklefile)"
   ]
  },
  {
   "cell_type": "markdown",
   "metadata": {},
   "source": [
    "# Creating table for Tableau"
   ]
  },
  {
   "cell_type": "code",
   "execution_count": 140,
   "metadata": {},
   "outputs": [],
   "source": [
    "y_all= df_X['in_cart']\n",
    "X_all = df_X.drop(['product_id','user_id','latest_cart','in_cart'],axis=1) "
   ]
  },
  {
   "cell_type": "code",
   "execution_count": 141,
   "metadata": {},
   "outputs": [
    {
     "data": {
      "text/plain": [
       "0.4503724106730005"
      ]
     },
     "execution_count": 141,
     "metadata": {},
     "output_type": "execute_result"
    }
   ],
   "source": [
    "model_all_probs = gbm.predict_proba(X_all, ntree_limit=gbm.best_ntree_limit)[:,1]\n",
    "model_all_labels = model_all_probs >= 0.201\n",
    "f1_score(model_all_labels, y_all)"
   ]
  },
  {
   "cell_type": "code",
   "execution_count": 150,
   "metadata": {},
   "outputs": [
    {
     "data": {
      "text/plain": [
       "Text(0.5,1,'Feature Importance')"
      ]
     },
     "execution_count": 150,
     "metadata": {},
     "output_type": "execute_result"
    },
    {
     "data": {
      "image/png": "[encoded data removed]",
      "text/plain": [
       "<matplotlib.figure.Figure at 0x1a1d025d68>"
      ]
     },
     "metadata": {},
     "output_type": "display_data"
    }
   ],
   "source": [
    "fig, ax = plt.subplots(figsize=(20,10))\n",
    "xgb.plot_importance(gbm, importance_type='gain', ax=ax, show_values=False, max_num_features=10)\n",
    "plt.rc('xtick', labelsize=20) \n",
    "plt.rc('ytick', labelsize=20)\n",
    "plt.ylabel('Features', fontsize=30, labelpad=30)\n",
    "plt.xlabel('F score', fontsize=30, labelpad=20)\n",
    "plt.title('Feature Importance', fontsize=30)"
   ]
  },
  {
   "cell_type": "code",
   "execution_count": 143,
   "metadata": {},
   "outputs": [],
   "source": [
    "df_X_tableau = pd.read_csv('instacart_df_X_features_subset.csv')"
   ]
  },
  {
   "cell_type": "code",
   "execution_count": 82,
   "metadata": {},
   "outputs": [],
   "source": [
    "with open('products.pkl', 'rb') as picklefile:\n",
    "    products = pickle.load(picklefile)"
   ]
  },
  {
   "cell_type": "code",
   "execution_count": 144,
   "metadata": {},
   "outputs": [],
   "source": [
    "df_X_tableau = df_X_tableau.merge(products, on=['product_id'])"
   ]
  },
  {
   "cell_type": "code",
   "execution_count": 145,
   "metadata": {},
   "outputs": [],
   "source": [
    "df_X_tableau['probs_from_model'] = model_all_probs\n",
    "df_X_tableau['reordered_from_model'] = model_all_labels.astype(int)"
   ]
  },
  {
   "cell_type": "code",
   "execution_count": 146,
   "metadata": {},
   "outputs": [],
   "source": [
    "df_X_tableau.to_csv('df_X_tableau_subset.csv', index=False)"
   ]
  },
  {
   "cell_type": "code",
   "execution_count": 7,
   "metadata": {},
   "outputs": [],
   "source": [
    "df_X_tableau = pd.read_csv('df_X_tableau_subset.csv')"
   ]
  },
  {
   "cell_type": "code",
   "execution_count": 154,
   "metadata": {},
   "outputs": [],
   "source": [
    "with open('order_products_prior_sample.pkl', 'rb') as picklefile:\n",
    "    df_order_products_prior = pickle.load(picklefile)"
   ]
  },
  {
   "cell_type": "code",
   "execution_count": 9,
   "metadata": {},
   "outputs": [],
   "source": [
    "df_X_tableau2 = (df_X_tableau.groupby(['product_id','product_name','department_id','department','aisle_id','aisle'],as_index=False) \\\n",
    "                                                .agg(OrderedDict(\n",
    "                                                     [('product_total_orders','max'),\n",
    "                                                      ('product_avg_add_to_cart_order', 'max'),\n",
    "                                                      ('product_avg_order_number', 'max'),\n",
    "                                                      ('product_avg_dow', 'max'),\n",
    "                                                      ('product_avg_hour_of_day', 'max'),\n",
    "                                                      ('product_total_times_reordered', 'max'),\n",
    "                                                      ('product_reordered_rate', 'max'),\n",
    "                                                      ('product_avg_dow_delta', 'max'),\n",
    "                                                      ('product_avg_hod_delta', 'max'),\n",
    "                                                      ('probs_from_model', 'mean')])))\n",
    "\n"
   ]
  },
  {
   "cell_type": "code",
   "execution_count": 11,
   "metadata": {},
   "outputs": [],
   "source": [
    "df_X_tableau2.to_csv('df_X_tableau2_subset.csv', index=False)"
   ]
  },
  {
   "cell_type": "code",
   "execution_count": null,
   "metadata": {},
   "outputs": [],
   "source": []
  }
 ],
 "metadata": {
  "kernelspec": {
   "display_name": "Python 3",
   "language": "python",
   "name": "python3"
  },
  "language_info": {
   "codemirror_mode": {
    "name": "ipython",
    "version": 3
   },
   "file_extension": ".py",
   "mimetype": "text/x-python",
   "name": "python",
   "nbconvert_exporter": "python",
   "pygments_lexer": "ipython3",
   "version": "3.6.4"
  }
 },
 "nbformat": 4,
 "nbformat_minor": 2
}
